{
 "cells": [
  {
   "cell_type": "markdown",
   "metadata": {},
   "source": [
    "### Multi-group test"
   ]
  },
  {
   "cell_type": "code",
   "execution_count": 13,
   "metadata": {},
   "outputs": [],
   "source": [
    "ddf_temp = ddf.set_index('tpep_pickup_datetime')\n",
    "#resample('D')[val_column].mean()"
   ]
  },
  {
   "cell_type": "code",
   "execution_count": null,
   "metadata": {},
   "outputs": [],
   "source": [
    "# TODO modify this to fit in memory - possibly by setting block size in initial loading\n",
    "ts = 'tpep_pickup_datetime'\n",
    "def per_group(blk):\n",
    "    \"\"\"\n",
    "    Block is a manageable pandas df for resampling since dask\n",
    "    will not support it directly\n",
    "    \"\"\"\n",
    "    return blk.groupby(ts)[tip].resample('M', how='sum')\n",
    "\n",
    "# TODO specify meta param\n",
    "ddf_temp.groupby(pu_location).apply(per_group).compute()"
   ]
  },
  {
   "cell_type": "markdown",
   "metadata": {},
   "source": [
    "### Tips with means using dask distributed"
   ]
  },
  {
   "cell_type": "code",
   "execution_count": null,
   "metadata": {},
   "outputs": [],
   "source": [
    "# @dask.delayed\n",
    "# def test_parallel(ddf):\n",
    "#     # TODO fix this, worker keeps getting jammed up making things very slow\n",
    "#     grouping = ddf.groupby([ddf[ts].dt.dayofweek])\n",
    "#     mean = grouping[tip].mean()\n",
    "#     std = grouping[tip].std()\n",
    "#     return mean, std\n",
    "\n",
    "# %time result1, result2 = test_parallel(ddf).compute()\n",
    "# %time day_of_week_tips = ddf.groupby([ddf[ts].dt.dayofweek])[tip].mean().compute()"
   ]
  },
  {
   "cell_type": "markdown",
   "metadata": {},
   "source": [
    "### Grouper seems to have trouble here"
   ]
  },
  {
   "cell_type": "code",
   "execution_count": 17,
   "metadata": {},
   "outputs": [],
   "source": [
    "time_column =  'tpep_pickup_datetime'\n",
    "val_column = 'tip_amount'"
   ]
  },
  {
   "cell_type": "code",
   "execution_count": 23,
   "metadata": {},
   "outputs": [],
   "source": [
    "\"\"\" Dynamically set timecourse interval and plot outcome\"\"\"\n",
    "import numpy as np\n",
    "from pandas import Grouper"
   ]
  },
  {
   "cell_type": "code",
   "execution_count": null,
   "metadata": {},
   "outputs": [],
   "source": [
    "def get_mean_val_by_interval(ddf, time_column, val_column, time_interval = '1min'):\n",
    "    \"\"\"\n",
    "    Get the mean value for a given time interval\n",
    "    time_column: datetime obj\n",
    "    val_column: float to average by time_interval\n",
    "    \n",
    "    Possible time intervals - https://pandas.pydata.org/pandas-docs/stable/user_guide/timeseries.html#offset-aliases\n",
    "    \"\"\"\n",
    "    # Have to expand to float64 to prevent overflow and inf outcomes \n",
    "    ddf[val_column] = ddf[val_column].astype(np.float64)\n",
    "#     ddf_by_grouping = ddf.groupby(Grouper(key=time_column, freq=time_interval))\n",
    "    return ddf.groupby(Grouper(key=time_column, freq=time_interval))[val_column].mean()\n",
    "\n",
    "get_mean_val_by_interval(ddf_temp, time_column, val_column, time_interval = '1M').compute()"
   ]
  }
 ],
 "metadata": {
  "kernelspec": {
   "display_name": "Python 3",
   "language": "python",
   "name": "python3"
  },
  "language_info": {
   "codemirror_mode": {
    "name": "ipython",
    "version": 3
   },
   "file_extension": ".py",
   "mimetype": "text/x-python",
   "name": "python",
   "nbconvert_exporter": "python",
   "pygments_lexer": "ipython3",
   "version": "3.6.9"
  }
 },
 "nbformat": 4,
 "nbformat_minor": 4
}
