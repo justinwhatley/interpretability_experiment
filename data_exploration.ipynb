{
 "cells": [
  {
   "cell_type": "markdown",
   "metadata": {},
   "source": [
    "## Data Exploration"
   ]
  },
  {
   "cell_type": "code",
   "execution_count": null,
   "metadata": {},
   "outputs": [],
   "source": [
    "# Extension reloader to import a function again when re-running cell \n",
    "%load_ext autoreload\n",
    "%autoreload 2"
   ]
  },
  {
   "cell_type": "code",
   "execution_count": null,
   "metadata": {},
   "outputs": [],
   "source": [
    "from datetime import datetime\n",
    "program_start_time = datetime.now().strftime('%Y-%m-%d_%H-%M-%S')\n",
    "print('Started: '+ program_start_time)"
   ]
  },
  {
   "cell_type": "markdown",
   "metadata": {},
   "source": [
    "### Load configuration"
   ]
  },
  {
   "cell_type": "code",
   "execution_count": null,
   "metadata": {},
   "outputs": [],
   "source": [
    "\"\"\"\n",
    "Loads common configuration parameters\n",
    "\"\"\"\n",
    "import utils.configuration_manager as configuration_manager\n",
    "from pathlib import PurePath\n",
    "from os import getcwd\n",
    "\n",
    "config_path = PurePath(getcwd(),'config.ini')\n",
    "config = configuration_manager.Config(config_path)\n",
    "\n",
    "# Assumes parquet directory as input\n",
    "input_path = config.input_path\n",
    "print('Input path: '+ input_path)\n",
    "\n",
    "# For result storage\n",
    "output_directory = config.output_directory\n",
    "print('Output path: ' + output_directory)"
   ]
  },
  {
   "cell_type": "markdown",
   "metadata": {},
   "source": [
    "### Start local Dask Client"
   ]
  },
  {
   "cell_type": "code",
   "execution_count": null,
   "metadata": {},
   "outputs": [],
   "source": [
    "from dask.distributed import Client, LocalCluster\n",
    "try:\n",
    "    if client:\n",
    "        print('Restarting client')\n",
    "        client.restart()\n",
    "except:\n",
    "#     cluster = LocalCluster(dashboard_address=':20100', memory_limit='4G')\n",
    "    cluster = LocalCluster(dashboard_address=':20100')\n",
    "    print('Setting new client')\n",
    "    client = Client(cluster)\n",
    "    print(client)\n",
    "client"
   ]
  },
  {
   "cell_type": "markdown",
   "metadata": {},
   "source": [
    "### Dask dataframe loader"
   ]
  },
  {
   "cell_type": "code",
   "execution_count": 5,
   "metadata": {},
   "outputs": [],
   "source": [
    "import dask.dataframe as dd\n",
    "import fastparquet"
   ]
  },
  {
   "cell_type": "code",
   "execution_count": 6,
   "metadata": {},
   "outputs": [],
   "source": [
    "ddf = dd.read_parquet(input_path)"
   ]
  },
  {
   "cell_type": "code",
   "execution_count": 7,
   "metadata": {},
   "outputs": [
    {
     "data": {
      "text/html": [
       "<div>\n",
       "<style scoped>\n",
       "    .dataframe tbody tr th:only-of-type {\n",
       "        vertical-align: middle;\n",
       "    }\n",
       "\n",
       "    .dataframe tbody tr th {\n",
       "        vertical-align: top;\n",
       "    }\n",
       "\n",
       "    .dataframe thead th {\n",
       "        text-align: right;\n",
       "    }\n",
       "</style>\n",
       "<table border=\"1\" class=\"dataframe\">\n",
       "  <thead>\n",
       "    <tr style=\"text-align: right;\">\n",
       "      <th></th>\n",
       "      <th>VendorID</th>\n",
       "      <th>tpep_pickup_datetime</th>\n",
       "      <th>tpep_dropoff_datetime</th>\n",
       "      <th>passenger_count</th>\n",
       "      <th>trip_distance</th>\n",
       "      <th>RatecodeID</th>\n",
       "      <th>store_and_fwd_flag</th>\n",
       "      <th>PULocationID</th>\n",
       "      <th>DOLocationID</th>\n",
       "      <th>payment_type</th>\n",
       "      <th>fare_amount</th>\n",
       "      <th>extra</th>\n",
       "      <th>mta_tax</th>\n",
       "      <th>tip_amount</th>\n",
       "      <th>tolls_amount</th>\n",
       "      <th>improvement_surcharge</th>\n",
       "      <th>total_amount</th>\n",
       "    </tr>\n",
       "    <tr>\n",
       "      <th>index</th>\n",
       "      <th></th>\n",
       "      <th></th>\n",
       "      <th></th>\n",
       "      <th></th>\n",
       "      <th></th>\n",
       "      <th></th>\n",
       "      <th></th>\n",
       "      <th></th>\n",
       "      <th></th>\n",
       "      <th></th>\n",
       "      <th></th>\n",
       "      <th></th>\n",
       "      <th></th>\n",
       "      <th></th>\n",
       "      <th></th>\n",
       "      <th></th>\n",
       "      <th></th>\n",
       "    </tr>\n",
       "  </thead>\n",
       "  <tbody>\n",
       "    <tr>\n",
       "      <th>0</th>\n",
       "      <td>1</td>\n",
       "      <td>2018-12-03 09:58:01</td>\n",
       "      <td>2018-12-03 10:14:17</td>\n",
       "      <td>1.0</td>\n",
       "      <td>1.20</td>\n",
       "      <td>1</td>\n",
       "      <td>N</td>\n",
       "      <td>186</td>\n",
       "      <td>161</td>\n",
       "      <td>1</td>\n",
       "      <td>11.0</td>\n",
       "      <td>0.0</td>\n",
       "      <td>0.5</td>\n",
       "      <td>2.95</td>\n",
       "      <td>0.00</td>\n",
       "      <td>0.3</td>\n",
       "      <td>14.75</td>\n",
       "    </tr>\n",
       "    <tr>\n",
       "      <th>1</th>\n",
       "      <td>2</td>\n",
       "      <td>2018-12-03 09:41:32</td>\n",
       "      <td>2018-12-03 10:20:08</td>\n",
       "      <td>1.0</td>\n",
       "      <td>12.03</td>\n",
       "      <td>1</td>\n",
       "      <td>N</td>\n",
       "      <td>138</td>\n",
       "      <td>162</td>\n",
       "      <td>1</td>\n",
       "      <td>39.0</td>\n",
       "      <td>0.0</td>\n",
       "      <td>0.5</td>\n",
       "      <td>9.11</td>\n",
       "      <td>5.76</td>\n",
       "      <td>0.3</td>\n",
       "      <td>54.67</td>\n",
       "    </tr>\n",
       "    <tr>\n",
       "      <th>2</th>\n",
       "      <td>2</td>\n",
       "      <td>2018-12-03 08:54:36</td>\n",
       "      <td>2018-12-03 08:59:35</td>\n",
       "      <td>2.0</td>\n",
       "      <td>0.86</td>\n",
       "      <td>1</td>\n",
       "      <td>N</td>\n",
       "      <td>151</td>\n",
       "      <td>166</td>\n",
       "      <td>1</td>\n",
       "      <td>5.5</td>\n",
       "      <td>0.0</td>\n",
       "      <td>0.5</td>\n",
       "      <td>1.26</td>\n",
       "      <td>0.00</td>\n",
       "      <td>0.3</td>\n",
       "      <td>7.56</td>\n",
       "    </tr>\n",
       "    <tr>\n",
       "      <th>3</th>\n",
       "      <td>2</td>\n",
       "      <td>2018-12-03 09:02:08</td>\n",
       "      <td>2018-12-03 09:07:16</td>\n",
       "      <td>2.0</td>\n",
       "      <td>1.09</td>\n",
       "      <td>1</td>\n",
       "      <td>N</td>\n",
       "      <td>166</td>\n",
       "      <td>238</td>\n",
       "      <td>1</td>\n",
       "      <td>6.0</td>\n",
       "      <td>0.0</td>\n",
       "      <td>0.5</td>\n",
       "      <td>1.36</td>\n",
       "      <td>0.00</td>\n",
       "      <td>0.3</td>\n",
       "      <td>8.16</td>\n",
       "    </tr>\n",
       "    <tr>\n",
       "      <th>4</th>\n",
       "      <td>2</td>\n",
       "      <td>2018-12-03 09:10:10</td>\n",
       "      <td>2018-12-03 09:21:32</td>\n",
       "      <td>2.0</td>\n",
       "      <td>1.78</td>\n",
       "      <td>1</td>\n",
       "      <td>N</td>\n",
       "      <td>238</td>\n",
       "      <td>75</td>\n",
       "      <td>1</td>\n",
       "      <td>9.5</td>\n",
       "      <td>0.0</td>\n",
       "      <td>0.5</td>\n",
       "      <td>2.06</td>\n",
       "      <td>0.00</td>\n",
       "      <td>0.3</td>\n",
       "      <td>12.36</td>\n",
       "    </tr>\n",
       "  </tbody>\n",
       "</table>\n",
       "</div>"
      ],
      "text/plain": [
       "      VendorID tpep_pickup_datetime tpep_dropoff_datetime  passenger_count  \\\n",
       "index                                                                        \n",
       "0            1  2018-12-03 09:58:01   2018-12-03 10:14:17              1.0   \n",
       "1            2  2018-12-03 09:41:32   2018-12-03 10:20:08              1.0   \n",
       "2            2  2018-12-03 08:54:36   2018-12-03 08:59:35              2.0   \n",
       "3            2  2018-12-03 09:02:08   2018-12-03 09:07:16              2.0   \n",
       "4            2  2018-12-03 09:10:10   2018-12-03 09:21:32              2.0   \n",
       "\n",
       "       trip_distance RatecodeID store_and_fwd_flag PULocationID DOLocationID  \\\n",
       "index                                                                          \n",
       "0               1.20          1                  N          186          161   \n",
       "1              12.03          1                  N          138          162   \n",
       "2               0.86          1                  N          151          166   \n",
       "3               1.09          1                  N          166          238   \n",
       "4               1.78          1                  N          238           75   \n",
       "\n",
       "      payment_type  fare_amount  extra  mta_tax  tip_amount  tolls_amount  \\\n",
       "index                                                                       \n",
       "0                1         11.0    0.0      0.5        2.95          0.00   \n",
       "1                1         39.0    0.0      0.5        9.11          5.76   \n",
       "2                1          5.5    0.0      0.5        1.26          0.00   \n",
       "3                1          6.0    0.0      0.5        1.36          0.00   \n",
       "4                1          9.5    0.0      0.5        2.06          0.00   \n",
       "\n",
       "       improvement_surcharge  total_amount  \n",
       "index                                       \n",
       "0                        0.3         14.75  \n",
       "1                        0.3         54.67  \n",
       "2                        0.3          7.56  \n",
       "3                        0.3          8.16  \n",
       "4                        0.3         12.36  "
      ]
     },
     "execution_count": 7,
     "metadata": {},
     "output_type": "execute_result"
    }
   ],
   "source": [
    "ddf.head()"
   ]
  },
  {
   "cell_type": "code",
   "execution_count": 8,
   "metadata": {},
   "outputs": [
    {
     "name": "stdout",
     "output_type": "stream",
     "text": [
      "VendorID                       category\n",
      "tpep_pickup_datetime     datetime64[ns]\n",
      "tpep_dropoff_datetime    datetime64[ns]\n",
      "passenger_count                 float64\n",
      "trip_distance                   float64\n",
      "RatecodeID                     category\n",
      "store_and_fwd_flag               object\n",
      "PULocationID                   category\n",
      "DOLocationID                   category\n",
      "payment_type                   category\n",
      "fare_amount                     float64\n",
      "extra                           float64\n",
      "mta_tax                         float64\n",
      "tip_amount                      float64\n",
      "tolls_amount                    float64\n",
      "improvement_surcharge           float64\n",
      "total_amount                    float64\n",
      "dtype: object\n"
     ]
    }
   ],
   "source": [
    "print(ddf.dtypes)"
   ]
  },
  {
   "cell_type": "markdown",
   "metadata": {},
   "source": [
    "## Basic Data Statistics"
   ]
  },
  {
   "cell_type": "code",
   "execution_count": 9,
   "metadata": {},
   "outputs": [
    {
     "name": "stdout",
     "output_type": "stream",
     "text": [
      "       passenger_count  trip_distance   fare_amount         extra  \\\n",
      "count     1.122346e+08   1.122346e+08  1.122346e+08  1.122346e+08   \n",
      "mean      1.595515e+00   2.929440e+00  1.302615e+01  3.310082e-01   \n",
      "std       1.241769e+00   1.833739e+01  1.470310e+02  4.659486e-01   \n",
      "min       0.000000e+00   0.000000e+00 -8.000000e+02 -8.000000e+01   \n",
      "25%       1.000000e+00   1.060000e+00  7.000000e+00  0.000000e+00   \n",
      "50%       1.000000e+00   1.800000e+00  1.050000e+01  5.000000e-01   \n",
      "75%       2.000000e+00   3.580000e+00  1.750000e+01  1.000000e+00   \n",
      "max       1.920000e+02   1.894838e+05  9.070702e+05  9.664000e+01   \n",
      "\n",
      "            mta_tax    tip_amount  tolls_amount  improvement_surcharge  \\\n",
      "count  1.122346e+08  1.122346e+08  1.122346e+08           1.122346e+08   \n",
      "mean   4.971520e-01  1.872474e+00  3.450687e-01           2.996225e-01   \n",
      "std    5.218331e-02  2.607947e+00  1.781228e+00           6.046083e-01   \n",
      "min   -5.000000e-01 -3.224200e+02 -5.250000e+01          -3.000000e-01   \n",
      "25%    5.000000e-01  0.000000e+00  0.000000e+00           3.000000e-01   \n",
      "50%    5.000000e-01  1.650000e+00  0.000000e+00           3.000000e-01   \n",
      "75%    5.000000e-01  2.850000e+00  0.000000e+00           3.000000e-01   \n",
      "max    1.500000e+02  9.459700e+02  1.650000e+03           4.000300e+03   \n",
      "\n",
      "       total_amount  \n",
      "count  1.122346e+08  \n",
      "mean   1.637517e+01  \n",
      "std    1.472798e+02  \n",
      "min   -8.003000e+02  \n",
      "25%    9.300000e+00  \n",
      "50%    1.296000e+01  \n",
      "75%    2.100000e+01  \n",
      "max    9.070710e+05  \n"
     ]
    }
   ],
   "source": [
    "print(ddf.describe().compute())"
   ]
  },
  {
   "cell_type": "markdown",
   "metadata": {},
   "source": [
    "### Tip by location"
   ]
  },
  {
   "cell_type": "code",
   "execution_count": 10,
   "metadata": {},
   "outputs": [],
   "source": [
    "pu_location = 'PULocationID'\n",
    "do_location = 'DOLocationID'\n",
    "tip = 'tip_amount'"
   ]
  },
  {
   "cell_type": "code",
   "execution_count": 11,
   "metadata": {},
   "outputs": [],
   "source": [
    "tip_by_region = ddf.groupby(pu_location)[tip].mean()"
   ]
  },
  {
   "cell_type": "code",
   "execution_count": 12,
   "metadata": {},
   "outputs": [
    {
     "name": "stderr",
     "output_type": "stream",
     "text": [
      "distributed.nanny - WARNING - Restarting worker\n"
     ]
    },
    {
     "data": {
      "text/plain": [
       "PULocationID\n",
       "1      10.791346\n",
       "10      6.435483\n",
       "100     1.481584\n",
       "101     1.403136\n",
       "102     1.161811\n",
       "         ...    \n",
       "109     6.477368\n",
       "110     1.185000\n",
       "99      1.015000\n",
       "199     3.179474\n",
       "104     0.000000\n",
       "Name: tip_amount, Length: 264, dtype: float64"
      ]
     },
     "execution_count": 12,
     "metadata": {},
     "output_type": "execute_result"
    }
   ],
   "source": [
    "tip_by_region.compute()"
   ]
  },
  {
   "cell_type": "markdown",
   "metadata": {},
   "source": [
    "### Tips by day of the week"
   ]
  },
  {
   "cell_type": "code",
   "execution_count": 22,
   "metadata": {},
   "outputs": [],
   "source": [
    "ddf_test = ddf.groupby([ddf[ts].dt.dayofweek])[tip].mean()"
   ]
  },
  {
   "cell_type": "code",
   "execution_count": 23,
   "metadata": {},
   "outputs": [
    {
     "name": "stderr",
     "output_type": "stream",
     "text": [
      "distributed.nanny - WARNING - Restarting worker\n"
     ]
    }
   ],
   "source": [
    "day_of_week = ddf_test.compute()"
   ]
  },
  {
   "cell_type": "code",
   "execution_count": 55,
   "metadata": {},
   "outputs": [
    {
     "name": "stdout",
     "output_type": "stream",
     "text": [
      "tpep_pickup_datetime\n",
      "0    1.899035\n",
      "1    1.920912\n",
      "2    1.932224\n",
      "3    1.988110\n",
      "4    1.898200\n",
      "5    1.657446\n",
      "6    1.801010\n",
      "Name: tip_amount, dtype: float64\n"
     ]
    }
   ],
   "source": [
    "days_dict = {'Monday':0, \n",
    "             'Tuesday':1, \n",
    "             'Wednesday':2, \n",
    "             'Thursday':3, \n",
    "             'Friday':4, \n",
    "             'Saturday': 5, \n",
    "             'Sunday':6}\n",
    "print(day_of_week)"
   ]
  },
  {
   "cell_type": "code",
   "execution_count": 68,
   "metadata": {},
   "outputs": [],
   "source": [
    "index = {y:x for x, y in days_dict.items()}\n",
    "day_of_week.index = day_of_week.index.map(index)"
   ]
  },
  {
   "cell_type": "code",
   "execution_count": 69,
   "metadata": {},
   "outputs": [
    {
     "name": "stdout",
     "output_type": "stream",
     "text": [
      "Index(['Monday', 'Tuesday', 'Wednesday', 'Thursday', 'Friday', 'Saturday',\n",
      "       'Sunday'],\n",
      "      dtype='object', name='tpep_pickup_datetime')\n"
     ]
    }
   ],
   "source": [
    "print(test)"
   ]
  },
  {
   "cell_type": "code",
   "execution_count": 70,
   "metadata": {},
   "outputs": [
    {
     "data": {
      "text/plain": [
       "<matplotlib.axes._subplots.AxesSubplot at 0x7f7b7a3632d0>"
      ]
     },
     "execution_count": 70,
     "metadata": {},
     "output_type": "execute_result"
    },
    {
     "data": {
      "image/png": "[encoded data removed]",
      "text/plain": [
       "<Figure size 432x288 with 1 Axes>"
      ]
     },
     "metadata": {
      "needs_background": "light"
     },
     "output_type": "display_data"
    }
   ],
   "source": [
    "# import matplotlib.pyplot as plt\n",
    "day_of_week.plot.bar(x='Day of the week', y='Mean tip')"
   ]
  },
  {
   "cell_type": "markdown",
   "metadata": {},
   "source": [
    "### Seasonal / trends"
   ]
  },
  {
   "cell_type": "markdown",
   "metadata": {},
   "source": [
    "Let's look at tiping behavior over the course of the year, averaging result by day"
   ]
  },
  {
   "cell_type": "code",
   "execution_count": null,
   "metadata": {},
   "outputs": [],
   "source": []
  },
  {
   "cell_type": "code",
   "execution_count": 17,
   "metadata": {},
   "outputs": [],
   "source": [
    "time_column =  'tpep_pickup_datetime'\n",
    "val_column = 'tip_amount'"
   ]
  },
  {
   "cell_type": "code",
   "execution_count": 23,
   "metadata": {},
   "outputs": [],
   "source": [
    "\"\"\" Dynamically set timecourse interval and plot outcome\"\"\"\n",
    "import numpy as np\n",
    "from pandas import Grouper"
   ]
  },
  {
   "cell_type": "code",
   "execution_count": null,
   "metadata": {},
   "outputs": [],
   "source": [
    "def get_mean_val_by_interval(ddf, time_column, val_column, time_interval = '1min'):\n",
    "    \"\"\"\n",
    "    Get the mean value for a given time interval\n",
    "    time_column: datetime obj\n",
    "    val_column: float to average by time_interval\n",
    "    \n",
    "    Possible time intervals - https://pandas.pydata.org/pandas-docs/stable/user_guide/timeseries.html#offset-aliases\n",
    "    \"\"\"\n",
    "    # Have to expand to float64 to prevent overflow and inf outcomes \n",
    "    ddf[val_column] = ddf[val_column].astype(np.float64)\n",
    "#     ddf_by_grouping = ddf.groupby(Grouper(key=time_column, freq=time_interval))\n",
    "    return ddf.groupby(Grouper(key=time_column, freq=time_interval))[val_column].mean()\n",
    "\n",
    "get_mean_val_by_interval(ddf_temp, time_column, val_column, time_interval = '1M').compute()"
   ]
  },
  {
   "cell_type": "code",
   "execution_count": null,
   "metadata": {},
   "outputs": [],
   "source": []
  }
 ],
 "metadata": {
  "kernelspec": {
   "display_name": "ml_env",
   "language": "python",
   "name": "ml_env"
  },
  "language_info": {
   "codemirror_mode": {
    "name": "ipython",
    "version": 3
   },
   "file_extension": ".py",
   "mimetype": "text/x-python",
   "name": "python",
   "nbconvert_exporter": "python",
   "pygments_lexer": "ipython3",
   "version": "3.7.7"
  }
 },
 "nbformat": 4,
 "nbformat_minor": 4
}
