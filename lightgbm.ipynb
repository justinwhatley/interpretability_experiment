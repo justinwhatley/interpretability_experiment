{
 "cells": [
  {
   "cell_type": "markdown",
   "metadata": {},
   "source": [
    "# LightGBM interpretability"
   ]
  },
  {
   "cell_type": "markdown",
   "metadata": {},
   "source": [
    "LightGBM offers a scalable solution that accomodates tabular and categorical inputs out of the box. "
   ]
  },
  {
   "cell_type": "markdown",
   "metadata": {},
   "source": [
    "### Setup"
   ]
  },
  {
   "cell_type": "code",
   "execution_count": 1,
   "metadata": {},
   "outputs": [],
   "source": [
    "# Extension reloader to import a function again when re-running cell \n",
    "%load_ext autoreload\n",
    "%autoreload 2"
   ]
  },
  {
   "cell_type": "markdown",
   "metadata": {},
   "source": [
    "### Load Configuration"
   ]
  },
  {
   "cell_type": "code",
   "execution_count": 2,
   "metadata": {},
   "outputs": [
    {
     "name": "stdout",
     "output_type": "stream",
     "text": [
      "Loading configuration from: /home/justin/Code/interpretability_experiment/config.ini\n",
      "Input path: data/2018_Yellow_Taxi_Trip_Data\n",
      "Output path: output\n"
     ]
    }
   ],
   "source": [
    "\"\"\"\n",
    "Loads common configuration parameters\n",
    "\"\"\"\n",
    "import utils.configuration_manager as configuration_manager\n",
    "from pathlib import PurePath\n",
    "from os import getcwd\n",
    "\n",
    "config_path = PurePath(getcwd(),'config.ini')\n",
    "config = configuration_manager.Config(config_path)\n",
    "\n",
    "# Assumes parquet directory as input\n",
    "input_path = config.input_path\n",
    "print('Input path: '+ input_path)\n",
    "\n",
    "# For result storage\n",
    "output_directory = config.output_directory\n",
    "print('Output path: ' + output_directory)"
   ]
  },
  {
   "cell_type": "markdown",
   "metadata": {},
   "source": [
    "### Start local Dask Client"
   ]
  },
  {
   "cell_type": "code",
   "execution_count": 3,
   "metadata": {},
   "outputs": [
    {
     "name": "stdout",
     "output_type": "stream",
     "text": [
      "Setting new client\n",
      "<Client: 'tcp://127.0.0.1:39311' processes=5 threads=10, memory=26.87 GB>\n"
     ]
    },
    {
     "data": {
      "text/html": [
       "<table style=\"border: 2px solid white;\">\n",
       "<tr>\n",
       "<td style=\"vertical-align: top; border: 0px solid white\">\n",
       "<h3 style=\"text-align: left;\">Client</h3>\n",
       "<ul style=\"text-align: left; list-style: none; margin: 0; padding: 0;\">\n",
       "  <li><b>Scheduler: </b>tcp://127.0.0.1:39311</li>\n",
       "  <li><b>Dashboard: </b><a href='http://127.0.0.1:20100/status' target='_blank'>http://127.0.0.1:20100/status</a>\n",
       "</ul>\n",
       "</td>\n",
       "<td style=\"vertical-align: top; border: 0px solid white\">\n",
       "<h3 style=\"text-align: left;\">Cluster</h3>\n",
       "<ul style=\"text-align: left; list-style:none; margin: 0; padding: 0;\">\n",
       "  <li><b>Workers: </b>5</li>\n",
       "  <li><b>Cores: </b>10</li>\n",
       "  <li><b>Memory: </b>26.87 GB</li>\n",
       "</ul>\n",
       "</td>\n",
       "</tr>\n",
       "</table>"
      ],
      "text/plain": [
       "<Client: 'tcp://127.0.0.1:39311' processes=5 threads=10, memory=26.87 GB>"
      ]
     },
     "execution_count": 3,
     "metadata": {},
     "output_type": "execute_result"
    }
   ],
   "source": [
    "from dask.distributed import Client, LocalCluster\n",
    "try:\n",
    "    if client:\n",
    "        print('Restarting client')\n",
    "        client.restart()\n",
    "except:\n",
    "#     cluster = LocalCluster(dashboard_address=':20100', memory_limit='4G')\n",
    "    cluster = LocalCluster(dashboard_address=':20100')\n",
    "    print('Setting new client')\n",
    "    client = Client(cluster)\n",
    "    print(client)\n",
    "client"
   ]
  },
  {
   "cell_type": "markdown",
   "metadata": {},
   "source": [
    "### Dask dataframe loader"
   ]
  },
  {
   "cell_type": "code",
   "execution_count": 4,
   "metadata": {},
   "outputs": [],
   "source": [
    "import dask.dataframe as dd\n",
    "import fastparquet"
   ]
  },
  {
   "cell_type": "code",
   "execution_count": 5,
   "metadata": {},
   "outputs": [],
   "source": [
    "ddf = dd.read_parquet(input_path)"
   ]
  },
  {
   "cell_type": "code",
   "execution_count": 6,
   "metadata": {},
   "outputs": [
    {
     "data": {
      "text/html": [
       "<div>\n",
       "<style scoped>\n",
       "    .dataframe tbody tr th:only-of-type {\n",
       "        vertical-align: middle;\n",
       "    }\n",
       "\n",
       "    .dataframe tbody tr th {\n",
       "        vertical-align: top;\n",
       "    }\n",
       "\n",
       "    .dataframe thead th {\n",
       "        text-align: right;\n",
       "    }\n",
       "</style>\n",
       "<table border=\"1\" class=\"dataframe\">\n",
       "  <thead>\n",
       "    <tr style=\"text-align: right;\">\n",
       "      <th></th>\n",
       "      <th>VendorID</th>\n",
       "      <th>tpep_pickup_datetime</th>\n",
       "      <th>tpep_dropoff_datetime</th>\n",
       "      <th>passenger_count</th>\n",
       "      <th>trip_distance</th>\n",
       "      <th>RatecodeID</th>\n",
       "      <th>store_and_fwd_flag</th>\n",
       "      <th>PULocationID</th>\n",
       "      <th>DOLocationID</th>\n",
       "      <th>payment_type</th>\n",
       "      <th>fare_amount</th>\n",
       "      <th>extra</th>\n",
       "      <th>mta_tax</th>\n",
       "      <th>tip_amount</th>\n",
       "      <th>tolls_amount</th>\n",
       "      <th>improvement_surcharge</th>\n",
       "      <th>total_amount</th>\n",
       "    </tr>\n",
       "    <tr>\n",
       "      <th>index</th>\n",
       "      <th></th>\n",
       "      <th></th>\n",
       "      <th></th>\n",
       "      <th></th>\n",
       "      <th></th>\n",
       "      <th></th>\n",
       "      <th></th>\n",
       "      <th></th>\n",
       "      <th></th>\n",
       "      <th></th>\n",
       "      <th></th>\n",
       "      <th></th>\n",
       "      <th></th>\n",
       "      <th></th>\n",
       "      <th></th>\n",
       "      <th></th>\n",
       "      <th></th>\n",
       "    </tr>\n",
       "  </thead>\n",
       "  <tbody>\n",
       "    <tr>\n",
       "      <th>0</th>\n",
       "      <td>1</td>\n",
       "      <td>2018-12-03 09:58:01</td>\n",
       "      <td>2018-12-03 10:14:17</td>\n",
       "      <td>1.0</td>\n",
       "      <td>1.20</td>\n",
       "      <td>1</td>\n",
       "      <td>N</td>\n",
       "      <td>186</td>\n",
       "      <td>161</td>\n",
       "      <td>1</td>\n",
       "      <td>11.0</td>\n",
       "      <td>0.0</td>\n",
       "      <td>0.5</td>\n",
       "      <td>2.95</td>\n",
       "      <td>0.00</td>\n",
       "      <td>0.3</td>\n",
       "      <td>14.75</td>\n",
       "    </tr>\n",
       "    <tr>\n",
       "      <th>1</th>\n",
       "      <td>2</td>\n",
       "      <td>2018-12-03 09:41:32</td>\n",
       "      <td>2018-12-03 10:20:08</td>\n",
       "      <td>1.0</td>\n",
       "      <td>12.03</td>\n",
       "      <td>1</td>\n",
       "      <td>N</td>\n",
       "      <td>138</td>\n",
       "      <td>162</td>\n",
       "      <td>1</td>\n",
       "      <td>39.0</td>\n",
       "      <td>0.0</td>\n",
       "      <td>0.5</td>\n",
       "      <td>9.11</td>\n",
       "      <td>5.76</td>\n",
       "      <td>0.3</td>\n",
       "      <td>54.67</td>\n",
       "    </tr>\n",
       "    <tr>\n",
       "      <th>2</th>\n",
       "      <td>2</td>\n",
       "      <td>2018-12-03 08:54:36</td>\n",
       "      <td>2018-12-03 08:59:35</td>\n",
       "      <td>2.0</td>\n",
       "      <td>0.86</td>\n",
       "      <td>1</td>\n",
       "      <td>N</td>\n",
       "      <td>151</td>\n",
       "      <td>166</td>\n",
       "      <td>1</td>\n",
       "      <td>5.5</td>\n",
       "      <td>0.0</td>\n",
       "      <td>0.5</td>\n",
       "      <td>1.26</td>\n",
       "      <td>0.00</td>\n",
       "      <td>0.3</td>\n",
       "      <td>7.56</td>\n",
       "    </tr>\n",
       "    <tr>\n",
       "      <th>3</th>\n",
       "      <td>2</td>\n",
       "      <td>2018-12-03 09:02:08</td>\n",
       "      <td>2018-12-03 09:07:16</td>\n",
       "      <td>2.0</td>\n",
       "      <td>1.09</td>\n",
       "      <td>1</td>\n",
       "      <td>N</td>\n",
       "      <td>166</td>\n",
       "      <td>238</td>\n",
       "      <td>1</td>\n",
       "      <td>6.0</td>\n",
       "      <td>0.0</td>\n",
       "      <td>0.5</td>\n",
       "      <td>1.36</td>\n",
       "      <td>0.00</td>\n",
       "      <td>0.3</td>\n",
       "      <td>8.16</td>\n",
       "    </tr>\n",
       "    <tr>\n",
       "      <th>4</th>\n",
       "      <td>2</td>\n",
       "      <td>2018-12-03 09:10:10</td>\n",
       "      <td>2018-12-03 09:21:32</td>\n",
       "      <td>2.0</td>\n",
       "      <td>1.78</td>\n",
       "      <td>1</td>\n",
       "      <td>N</td>\n",
       "      <td>238</td>\n",
       "      <td>75</td>\n",
       "      <td>1</td>\n",
       "      <td>9.5</td>\n",
       "      <td>0.0</td>\n",
       "      <td>0.5</td>\n",
       "      <td>2.06</td>\n",
       "      <td>0.00</td>\n",
       "      <td>0.3</td>\n",
       "      <td>12.36</td>\n",
       "    </tr>\n",
       "  </tbody>\n",
       "</table>\n",
       "</div>"
      ],
      "text/plain": [
       "      VendorID tpep_pickup_datetime tpep_dropoff_datetime  passenger_count  \\\n",
       "index                                                                        \n",
       "0            1  2018-12-03 09:58:01   2018-12-03 10:14:17              1.0   \n",
       "1            2  2018-12-03 09:41:32   2018-12-03 10:20:08              1.0   \n",
       "2            2  2018-12-03 08:54:36   2018-12-03 08:59:35              2.0   \n",
       "3            2  2018-12-03 09:02:08   2018-12-03 09:07:16              2.0   \n",
       "4            2  2018-12-03 09:10:10   2018-12-03 09:21:32              2.0   \n",
       "\n",
       "       trip_distance RatecodeID store_and_fwd_flag PULocationID DOLocationID  \\\n",
       "index                                                                          \n",
       "0               1.20          1                  N          186          161   \n",
       "1              12.03          1                  N          138          162   \n",
       "2               0.86          1                  N          151          166   \n",
       "3               1.09          1                  N          166          238   \n",
       "4               1.78          1                  N          238           75   \n",
       "\n",
       "      payment_type  fare_amount  extra  mta_tax  tip_amount  tolls_amount  \\\n",
       "index                                                                       \n",
       "0                1         11.0    0.0      0.5        2.95          0.00   \n",
       "1                1         39.0    0.0      0.5        9.11          5.76   \n",
       "2                1          5.5    0.0      0.5        1.26          0.00   \n",
       "3                1          6.0    0.0      0.5        1.36          0.00   \n",
       "4                1          9.5    0.0      0.5        2.06          0.00   \n",
       "\n",
       "       improvement_surcharge  total_amount  \n",
       "index                                       \n",
       "0                        0.3         14.75  \n",
       "1                        0.3         54.67  \n",
       "2                        0.3          7.56  \n",
       "3                        0.3          8.16  \n",
       "4                        0.3         12.36  "
      ]
     },
     "execution_count": 6,
     "metadata": {},
     "output_type": "execute_result"
    }
   ],
   "source": [
    "ddf.head()"
   ]
  },
  {
   "cell_type": "code",
   "execution_count": 7,
   "metadata": {},
   "outputs": [
    {
     "data": {
      "text/plain": [
       "VendorID                       category\n",
       "tpep_pickup_datetime     datetime64[ns]\n",
       "tpep_dropoff_datetime    datetime64[ns]\n",
       "passenger_count                 float64\n",
       "trip_distance                   float64\n",
       "RatecodeID                     category\n",
       "store_and_fwd_flag               object\n",
       "PULocationID                   category\n",
       "DOLocationID                   category\n",
       "payment_type                   category\n",
       "fare_amount                     float64\n",
       "extra                           float64\n",
       "mta_tax                         float64\n",
       "tip_amount                      float64\n",
       "tolls_amount                    float64\n",
       "improvement_surcharge           float64\n",
       "total_amount                    float64\n",
       "dtype: object"
      ]
     },
     "execution_count": 7,
     "metadata": {},
     "output_type": "execute_result"
    }
   ],
   "source": [
    "ddf.dtypes"
   ]
  },
  {
   "cell_type": "markdown",
   "metadata": {},
   "source": [
    "### Define what we are trying to model"
   ]
  },
  {
   "cell_type": "markdown",
   "metadata": {},
   "source": [
    "Let's try to create an estimator for the passenger tip, which I suspect is something pretty difficult to guess outright. \n",
    "\n",
    "Then we can look into other questions like whether the passenger count might affect the tip as a kind of social pressure. "
   ]
  },
  {
   "cell_type": "code",
   "execution_count": 8,
   "metadata": {},
   "outputs": [
    {
     "name": "stdout",
     "output_type": "stream",
     "text": [
      "['VendorID', 'tpep_pickup_datetime', 'tpep_dropoff_datetime', 'passenger_count', 'trip_distance', 'RatecodeID', 'store_and_fwd_flag', 'PULocationID', 'DOLocationID', 'payment_type', 'fare_amount', 'extra', 'mta_tax', 'tip_amount', 'tolls_amount', 'improvement_surcharge', 'total_amount']\n"
     ]
    }
   ],
   "source": [
    "columns = [x for x in ddf.columns.values]\n",
    "print(columns)"
   ]
  },
  {
   "cell_type": "code",
   "execution_count": 20,
   "metadata": {},
   "outputs": [],
   "source": [
    "# Note - total_amount is excluded from the input list \n",
    "input_columns = ['VendorID', \n",
    "                 'passenger_count', 'trip_distance', 'RatecodeID', \n",
    "                 'PULocationID', 'DOLocationID', 'payment_type', 'fare_amount', 'extra',\n",
    "                 'mta_tax', 'tolls_amount', 'improvement_surcharge', 'total_amount_wo_tip']"
   ]
  },
  {
   "cell_type": "code",
   "execution_count": 21,
   "metadata": {},
   "outputs": [],
   "source": [
    "target = 'tip_amount'"
   ]
  },
  {
   "cell_type": "code",
   "execution_count": 22,
   "metadata": {},
   "outputs": [],
   "source": [
    "\"\"\"\n",
    "We'll subtract the tip_amount from the total_amount to prevent any leakage, \n",
    "using a new total_amount_wo_tip column.\n",
    "\"\"\"\n",
    "ddf['total_amount_wo_tip'] = ddf['total_amount'] - ddf['tip_amount']"
   ]
  },
  {
   "cell_type": "code",
   "execution_count": 23,
   "metadata": {},
   "outputs": [],
   "source": [
    "# print(ddf.head())"
   ]
  },
  {
   "cell_type": "markdown",
   "metadata": {},
   "source": [
    "### LightGBM Model"
   ]
  },
  {
   "cell_type": "code",
   "execution_count": 24,
   "metadata": {},
   "outputs": [],
   "source": [
    "\"\"\"\n",
    "LightGBM parameters\n",
    "\"\"\"\n",
    "import lightgbm as lgb\n",
    "from dask_ml.model_selection import train_test_split\n",
    "\n",
    "ts = 'tpep_pickup_datetime'"
   ]
  },
  {
   "cell_type": "code",
   "execution_count": 37,
   "metadata": {},
   "outputs": [],
   "source": [
    "lgb_params = {\n",
    "    'task': 'train',\n",
    "    'boosting_type': 'goss',\n",
    "    'objective': 'binary',\n",
    "    'metric':'binary_logloss',\n",
    "    'metric': {'l2', 'auc'},\n",
    "    'num_leaves': 50,\n",
    "    'learning_rate': 0.1,\n",
    "    'feature_fraction': 0.8,\n",
    "    'bagging_fraction': 0.8,\n",
    "    'verbose': None,\n",
    "    'max_depth':12,\n",
    "    'min_data_in_leaf':100,\n",
    "    'alpha':0.5}\n",
    "\n",
    "def train_model(df_block):\n",
    "    X = df_block[input_columns]\n",
    "    y = df_block[target]\n",
    "    \n",
    "    # Make training and validation sets\n",
    "    X_train, X_test, y_train, y_test = train_test_split(X, y, test_size=.8)\n",
    "    \n",
    "#     # Transform to pandas dataframe for LightGBM support \n",
    "#     X_train, X_test, y_train, y_test = pandafy(X_train, X_test, y_train, y_test)\n",
    "    \n",
    "    lgb_train = lgb.Dataset(X_train, y_train)\n",
    "    lgb_eval = lgb.Dataset(X_test, y_test)\n",
    "\n",
    "    #https://www.kaggle.com/mlisovyi/beware-of-categorical-features-in-lgbm\n",
    "    # https://towardsdatascience.com/interpretable-machine-learning-with-xgboost-9ec80d148d27\n",
    "    lgb_model = lgb.train(lgb_params,\n",
    "                          lgb_train,\n",
    "                          num_boost_round=100,\n",
    "                          valid_sets=lgb_eval,\n",
    "                          early_stopping_rounds=5)\n",
    "    return lgb_model\n"
   ]
  },
  {
   "cell_type": "code",
   "execution_count": 49,
   "metadata": {},
   "outputs": [],
   "source": [
    "import pandas as pd\n",
    "\n",
    "def concatenate(dfs):\n",
    "    \"\"\"\n",
    "    From https://stackoverflow.com/questions/45639350/retaining-categorical-dtype-upon-dataframe-concatenation\n",
    "    Concatenate while preserving categorical columns.\n",
    "    NB: We change the categories in-place for the input dataframes\"\"\"\n",
    "    from pandas.api.types import union_categoricals\n",
    "    import pandas as pd\n",
    "    # Iterate on categorical columns common to all dfs\n",
    "    for col in set.intersection(\n",
    "        *[\n",
    "            set(df.select_dtypes(include='category').columns)\n",
    "            for df in dfs\n",
    "        ]\n",
    "    ):\n",
    "        # Generate the union category across dfs for this column\n",
    "        uc = union_categoricals([df[col] for df in dfs])\n",
    "        # Change to union category for all dataframes\n",
    "        for df in dfs:\n",
    "            df[col] = pd.Categorical( df[col], categories=uc.categories )\n",
    "    return pd.concat(dfs)\n",
    "\n",
    "columns_to_keep = input_columns + [target]\n",
    "\n",
    "dfs = []\n",
    "for i in range(10):\n",
    "    ddf_partition = ddf[columns_to_keep].get_partition(i)\n",
    "    df_temp = ddf_partition.compute()\n",
    "    dfs.append(df_temp)\n",
    "\n",
    "# from pandas.api.types import union_categoricals \n",
    "df = concatenate(dfs)"
   ]
  },
  {
   "cell_type": "code",
   "execution_count": 50,
   "metadata": {},
   "outputs": [
    {
     "name": "stdout",
     "output_type": "stream",
     "text": [
      "VendorID                 category\n",
      "passenger_count           float64\n",
      "trip_distance             float64\n",
      "RatecodeID               category\n",
      "PULocationID             category\n",
      "DOLocationID             category\n",
      "payment_type             category\n",
      "fare_amount               float64\n",
      "extra                     float64\n",
      "mta_tax                   float64\n",
      "tolls_amount              float64\n",
      "improvement_surcharge     float64\n",
      "total_amount_wo_tip       float64\n",
      "tip_amount                float64\n",
      "dtype: object\n"
     ]
    }
   ],
   "source": [
    "print(df.dtypes)"
   ]
  },
  {
   "cell_type": "code",
   "execution_count": 52,
   "metadata": {},
   "outputs": [
    {
     "name": "stdout",
     "output_type": "stream",
     "text": [
      "[1]\tvalid_0's l2: 9.1798\tvalid_0's auc: 0.966594\n",
      "Training until validation scores don't improve for 5 rounds\n",
      "[2]\tvalid_0's l2: 9.09021\tvalid_0's auc: 0.967777\n",
      "[3]\tvalid_0's l2: 9.0815\tvalid_0's auc: 0.967171\n",
      "[4]\tvalid_0's l2: 9.00246\tvalid_0's auc: 0.968175\n",
      "[5]\tvalid_0's l2: 8.99547\tvalid_0's auc: 0.967334\n",
      "[6]\tvalid_0's l2: 8.92748\tvalid_0's auc: 0.967934\n",
      "[7]\tvalid_0's l2: 8.86792\tvalid_0's auc: 0.968449\n",
      "[8]\tvalid_0's l2: 8.86366\tvalid_0's auc: 0.968434\n",
      "[9]\tvalid_0's l2: 8.81165\tvalid_0's auc: 0.96863\n",
      "[10]\tvalid_0's l2: 8.76586\tvalid_0's auc: 0.968997\n",
      "[11]\tvalid_0's l2: 8.76232\tvalid_0's auc: 0.968689\n",
      "[12]\tvalid_0's l2: 8.75953\tvalid_0's auc: 0.968376\n",
      "[13]\tvalid_0's l2: 8.72059\tvalid_0's auc: 0.968782\n",
      "[14]\tvalid_0's l2: 8.68572\tvalid_0's auc: 0.969123\n",
      "[15]\tvalid_0's l2: 8.65451\tvalid_0's auc: 0.969395\n",
      "[16]\tvalid_0's l2: 8.62689\tvalid_0's auc: 0.969702\n",
      "[17]\tvalid_0's l2: 8.60221\tvalid_0's auc: 0.96977\n",
      "[18]\tvalid_0's l2: 8.57983\tvalid_0's auc: 0.969961\n",
      "[19]\tvalid_0's l2: 8.55998\tvalid_0's auc: 0.970131\n",
      "[20]\tvalid_0's l2: 8.54251\tvalid_0's auc: 0.970205\n",
      "[21]\tvalid_0's l2: 8.52705\tvalid_0's auc: 0.970384\n",
      "[22]\tvalid_0's l2: 8.51237\tvalid_0's auc: 0.970481\n",
      "[23]\tvalid_0's l2: 8.4996\tvalid_0's auc: 0.97051\n",
      "[24]\tvalid_0's l2: 8.48791\tvalid_0's auc: 0.970576\n",
      "[25]\tvalid_0's l2: 8.47748\tvalid_0's auc: 0.970637\n",
      "[26]\tvalid_0's l2: 8.46814\tvalid_0's auc: 0.970681\n",
      "[27]\tvalid_0's l2: 8.46775\tvalid_0's auc: 0.97066\n",
      "[28]\tvalid_0's l2: 8.45946\tvalid_0's auc: 0.970712\n",
      "[29]\tvalid_0's l2: 8.45185\tvalid_0's auc: 0.970729\n",
      "[30]\tvalid_0's l2: 8.45143\tvalid_0's auc: 0.970717\n",
      "[31]\tvalid_0's l2: 8.45087\tvalid_0's auc: 0.970723\n",
      "[32]\tvalid_0's l2: 8.44421\tvalid_0's auc: 0.970769\n",
      "[33]\tvalid_0's l2: 8.43821\tvalid_0's auc: 0.970768\n",
      "[34]\tvalid_0's l2: 8.43299\tvalid_0's auc: 0.970786\n",
      "[35]\tvalid_0's l2: 8.42813\tvalid_0's auc: 0.970837\n",
      "[36]\tvalid_0's l2: 8.42359\tvalid_0's auc: 0.970866\n",
      "[37]\tvalid_0's l2: 8.42349\tvalid_0's auc: 0.970861\n",
      "[38]\tvalid_0's l2: 8.41949\tvalid_0's auc: 0.970856\n",
      "[39]\tvalid_0's l2: 8.41551\tvalid_0's auc: 0.970854\n",
      "[40]\tvalid_0's l2: 8.41219\tvalid_0's auc: 0.970861\n",
      "[41]\tvalid_0's l2: 8.4093\tvalid_0's auc: 0.970853\n",
      "Early stopping, best iteration is:\n",
      "[36]\tvalid_0's l2: 8.42359\tvalid_0's auc: 0.970866\n"
     ]
    }
   ],
   "source": [
    "lightgbm_model = train_model(df)"
   ]
  },
  {
   "cell_type": "markdown",
   "metadata": {},
   "source": [
    "### Try built-in explainer"
   ]
  },
  {
   "cell_type": "markdown",
   "metadata": {},
   "source": [
    "Now we'll take a look at possible contributors to the final tip received. Importantly, these will not tell you the direction of the relationship and cannot be taken at face value."
   ]
  },
  {
   "cell_type": "code",
   "execution_count": 57,
   "metadata": {},
   "outputs": [
    {
     "data": {
      "text/plain": [
       "<matplotlib.axes._subplots.AxesSubplot at 0x7fca798b7c10>"
      ]
     },
     "execution_count": 57,
     "metadata": {},
     "output_type": "execute_result"
    },
    {
     "data": {
      "image/png": "[encoded data removed]",
      "text/plain": [
       "<Figure size 432x288 with 1 Axes>"
      ]
     },
     "metadata": {
      "needs_background": "light"
     },
     "output_type": "display_data"
    }
   ],
   "source": [
    "# Default feature importance is \"split\" which represents the number of times the feature is used by the model\n",
    "lgb.plot_importance(lightgbm_model)"
   ]
  },
  {
   "cell_type": "code",
   "execution_count": 60,
   "metadata": {},
   "outputs": [
    {
     "data": {
      "text/plain": [
       "<matplotlib.axes._subplots.AxesSubplot at 0x7fcaaa38e410>"
      ]
     },
     "execution_count": 60,
     "metadata": {},
     "output_type": "execute_result"
    },
    {
     "data": {
      "image/png": "[encoded data removed]",
      "text/plain": [
       "<Figure size 432x288 with 1 Axes>"
      ]
     },
     "metadata": {
      "needs_background": "light"
     },
     "output_type": "display_data"
    }
   ],
   "source": [
    "# Gain feature importance contains the total information gain the model has by using this feature\n",
    "lgb.plot_importance(lightgbm_model, importance_type=\"gain\")"
   ]
  },
  {
   "cell_type": "markdown",
   "metadata": {},
   "source": [
    "Looking at whether we are plotting importance by the number of times the feature is used by the model (1st case) or the information gained by the use of a particular branch point (second case) we get pretty different results. \n",
    "\n",
    "Readings:\n",
    "Interpretability with XGBoost\n",
    "https://towardsdatascience.com/interpretable-machine-learning-with-xgboost-9ec80d148d27\n",
    "\n",
    "For census data and XGBoost:\n",
    "https://slundberg.github.io/shap/notebooks/Census%20income%20classification%20with%20XGBoost.html\n",
    "\n",
    "It seems like pick-up and drop-off location seem to be strong predictors, but we might have to control for the distance. \n"
   ]
  },
  {
   "cell_type": "code",
   "execution_count": null,
   "metadata": {},
   "outputs": [],
   "source": [
    "### Pay"
   ]
  },
  {
   "cell_type": "markdown",
   "metadata": {},
   "source": [
    "Payment_type from feature importance derived by 'gain' seems promising. Let's investigate. "
   ]
  },
  {
   "cell_type": "code",
   "execution_count": null,
   "metadata": {},
   "outputs": [],
   "source": [
    "\"\"\"\n",
    "A numeric code signifying how the passenger paid for the trip.\n",
    "1= Credit card\n",
    "2= Cash\n",
    "3= No charge\n",
    "4= Dispute\n",
    "5= Unknown\n",
    "6= Voided trip\n",
    "\"\"\""
   ]
  },
  {
   "cell_type": "code",
   "execution_count": 71,
   "metadata": {},
   "outputs": [
    {
     "name": "stdout",
     "output_type": "stream",
     "text": [
      "1    2475032\n",
      "2     938645\n",
      "3      16096\n",
      "4       5434\n",
      "Name: payment_type, dtype: int64\n"
     ]
    }
   ],
   "source": [
    "# For local dataset\n",
    "print(df['payment_type'].value_counts())"
   ]
  },
  {
   "cell_type": "code",
   "execution_count": 74,
   "metadata": {},
   "outputs": [
    {
     "name": "stdout",
     "output_type": "stream",
     "text": [
      "1    77928307\n",
      "2    33556849\n",
      "3      582599\n",
      "4      166868\n",
      "5           3\n",
      "Name: payment_type, dtype: int64\n"
     ]
    }
   ],
   "source": [
    "# For global dataset\n",
    "print(ddf['payment_type'].value_counts().compute())"
   ]
  },
  {
   "cell_type": "markdown",
   "metadata": {},
   "source": [
    "It's possible that 'no-charge' in this case guaranties no-tip, but that isn't a particularly useful finding. Perhaps we should remove this from the training set."
   ]
  },
  {
   "cell_type": "markdown",
   "metadata": {},
   "source": [
    "### Use SHAP explainer"
   ]
  },
  {
   "cell_type": "code",
   "execution_count": 55,
   "metadata": {},
   "outputs": [
    {
     "ename": "ModuleNotFoundError",
     "evalue": "No module named 'shap'",
     "output_type": "error",
     "traceback": [
      "\u001b[0;31m---------------------------------------------------------------------------\u001b[0m",
      "\u001b[0;31mModuleNotFoundError\u001b[0m                       Traceback (most recent call last)",
      "\u001b[0;32m<ipython-input-55-ec17247a87c9>\u001b[0m in \u001b[0;36m<module>\u001b[0;34m\u001b[0m\n\u001b[0;32m----> 1\u001b[0;31m \u001b[0;32mimport\u001b[0m \u001b[0mshap\u001b[0m\u001b[0;34m\u001b[0m\u001b[0;34m\u001b[0m\u001b[0m\n\u001b[0m\u001b[1;32m      2\u001b[0m \u001b[0mshap\u001b[0m\u001b[0;34m.\u001b[0m\u001b[0minitjs\u001b[0m\u001b[0;34m(\u001b[0m\u001b[0;34m)\u001b[0m\u001b[0;34m\u001b[0m\u001b[0;34m\u001b[0m\u001b[0m\n",
      "\u001b[0;31mModuleNotFoundError\u001b[0m: No module named 'shap'"
     ]
    }
   ],
   "source": [
    "import shap\n",
    "shap.initjs() "
   ]
  },
  {
   "cell_type": "code",
   "execution_count": null,
   "metadata": {},
   "outputs": [],
   "source": []
  }
 ],
 "metadata": {
  "kernelspec": {
   "display_name": "ml_env",
   "language": "python",
   "name": "ml_env"
  },
  "language_info": {
   "codemirror_mode": {
    "name": "ipython",
    "version": 3
   },
   "file_extension": ".py",
   "mimetype": "text/x-python",
   "name": "python",
   "nbconvert_exporter": "python",
   "pygments_lexer": "ipython3",
   "version": "3.7.7"
  }
 },
 "nbformat": 4,
 "nbformat_minor": 4
}
