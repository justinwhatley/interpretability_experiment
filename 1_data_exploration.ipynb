{
 "cells": [
  {
   "cell_type": "markdown",
   "metadata": {},
   "source": [
    "## Data Exploration"
   ]
  },
  {
   "cell_type": "code",
   "execution_count": 1,
   "metadata": {},
   "outputs": [],
   "source": [
    "# Extension reloader to import a function again when re-running cell \n",
    "%load_ext autoreload\n",
    "%autoreload 2"
   ]
  },
  {
   "cell_type": "code",
   "execution_count": 2,
   "metadata": {},
   "outputs": [],
   "source": [
    "%matplotlib inline\n",
    "import matplotlib.pyplot as plt"
   ]
  },
  {
   "cell_type": "code",
   "execution_count": 3,
   "metadata": {},
   "outputs": [
    {
     "name": "stdout",
     "output_type": "stream",
     "text": [
      "Started: 2020-05-20_09-15-49\n"
     ]
    }
   ],
   "source": [
    "from datetime import datetime\n",
    "program_start_time = datetime.now().strftime('%Y-%m-%d_%H-%M-%S')\n",
    "print('Started: '+ program_start_time)"
   ]
  },
  {
   "cell_type": "markdown",
   "metadata": {},
   "source": [
    "### Load configuration"
   ]
  },
  {
   "cell_type": "code",
   "execution_count": 4,
   "metadata": {},
   "outputs": [
    {
     "name": "stdout",
     "output_type": "stream",
     "text": [
      "Loading configuration from: /home/justin/Code/interpretability_experiment/config.ini\n"
     ]
    }
   ],
   "source": [
    "\"\"\"\n",
    "Loads common configuration parameters\n",
    "\"\"\"\n",
    "from src.utils.configuration_manager import Config\n",
    "from pathlib import Path, PurePath\n",
    "from os import getcwd\n",
    "\n",
    "config_path = PurePath(getcwd(),'config.ini')\n",
    "config = Config(config_path)"
   ]
  },
  {
   "cell_type": "markdown",
   "metadata": {},
   "source": [
    "### Figures subdirectory"
   ]
  },
  {
   "cell_type": "code",
   "execution_count": 5,
   "metadata": {},
   "outputs": [],
   "source": [
    "figures_dir = Path(config.figures_dir, 'data_exploration')\n",
    "figures_dir.mkdir(parents=True, exist_ok=True)"
   ]
  },
  {
   "cell_type": "markdown",
   "metadata": {},
   "source": [
    "### Start local Dask Client"
   ]
  },
  {
   "cell_type": "code",
   "execution_count": 6,
   "metadata": {},
   "outputs": [
    {
     "name": "stdout",
     "output_type": "stream",
     "text": [
      "Setting new client\n",
      "<Client: 'tcp://127.0.0.1:40571' processes=5 threads=10, memory=25.00 GB>\n"
     ]
    },
    {
     "data": {
      "text/html": [
       "<table style=\"border: 2px solid white;\">\n",
       "<tr>\n",
       "<td style=\"vertical-align: top; border: 0px solid white\">\n",
       "<h3 style=\"text-align: left;\">Client</h3>\n",
       "<ul style=\"text-align: left; list-style: none; margin: 0; padding: 0;\">\n",
       "  <li><b>Scheduler: </b>tcp://127.0.0.1:40571</li>\n",
       "  <li><b>Dashboard: </b><a href='http://127.0.0.1:20100/status' target='_blank'>http://127.0.0.1:20100/status</a>\n",
       "</ul>\n",
       "</td>\n",
       "<td style=\"vertical-align: top; border: 0px solid white\">\n",
       "<h3 style=\"text-align: left;\">Cluster</h3>\n",
       "<ul style=\"text-align: left; list-style:none; margin: 0; padding: 0;\">\n",
       "  <li><b>Workers: </b>5</li>\n",
       "  <li><b>Cores: </b>10</li>\n",
       "  <li><b>Memory: </b>25.00 GB</li>\n",
       "</ul>\n",
       "</td>\n",
       "</tr>\n",
       "</table>"
      ],
      "text/plain": [
       "<Client: 'tcp://127.0.0.1:40571' processes=5 threads=10, memory=25.00 GB>"
      ]
     },
     "execution_count": 6,
     "metadata": {},
     "output_type": "execute_result"
    }
   ],
   "source": [
    "from dask.distributed import Client, LocalCluster\n",
    "try:\n",
    "    if client:\n",
    "        print('Restarting client')\n",
    "        client.restart()\n",
    "except:\n",
    "    cluster = LocalCluster(dashboard_address=':20100', memory_limit='5G')\n",
    "#     cluster = LocalCluster(dashboard_address=':20100')\n",
    "    print('Setting new client')\n",
    "    client = Client(cluster)\n",
    "    print(client)\n",
    "client"
   ]
  },
  {
   "cell_type": "markdown",
   "metadata": {},
   "source": [
    "### Prepare Dataset"
   ]
  },
  {
   "cell_type": "code",
   "execution_count": 7,
   "metadata": {},
   "outputs": [],
   "source": [
    "\"\"\"\n",
    "Loads the dataset file based on configuration \n",
    "\"\"\"\n",
    "from src.preprocessing.dataset_manager import DatasetManager\n",
    "dataset_manager = DatasetManager(config)"
   ]
  },
  {
   "cell_type": "code",
   "execution_count": 8,
   "metadata": {},
   "outputs": [
    {
     "name": "stdout",
     "output_type": "stream",
     "text": [
      "Not overwriting existing training and test sets\n",
      "CPU times: user 0 ns, sys: 599 µs, total: 599 µs\n",
      "Wall time: 3.14 ms\n"
     ]
    }
   ],
   "source": [
    "%time dataset_manager.write_dataset(overwrite=False)"
   ]
  },
  {
   "cell_type": "code",
   "execution_count": 9,
   "metadata": {},
   "outputs": [],
   "source": [
    "ddf = dataset_manager.load_ddf()"
   ]
  },
  {
   "cell_type": "code",
   "execution_count": 10,
   "metadata": {},
   "outputs": [
    {
     "data": {
      "text/plain": [
       "326"
      ]
     },
     "execution_count": 10,
     "metadata": {},
     "output_type": "execute_result"
    }
   ],
   "source": [
    "ddf.npartitions"
   ]
  },
  {
   "cell_type": "code",
   "execution_count": 11,
   "metadata": {},
   "outputs": [],
   "source": [
    "# ddf = ddf.repartition(npartitions=10000)"
   ]
  },
  {
   "cell_type": "markdown",
   "metadata": {},
   "source": [
    "## Basic Data Statistics"
   ]
  },
  {
   "cell_type": "code",
   "execution_count": 12,
   "metadata": {},
   "outputs": [
    {
     "data": {
      "text/plain": [
       "VendorID                       category\n",
       "tpep_pickup_datetime     datetime64[ns]\n",
       "tpep_dropoff_datetime    datetime64[ns]\n",
       "passenger_count                 float64\n",
       "trip_distance                   float64\n",
       "RatecodeID                     category\n",
       "PULocationID                   category\n",
       "DOLocationID                   category\n",
       "payment_type                   category\n",
       "fare_amount                     float64\n",
       "extra                           float64\n",
       "mta_tax                         float64\n",
       "tip_amount                      float64\n",
       "tolls_amount                    float64\n",
       "improvement_surcharge           float64\n",
       "total_amount_wo_tip             float64\n",
       "tip_fraction                    float64\n",
       "tipped                             bool\n",
       "dtype: object"
      ]
     },
     "execution_count": 12,
     "metadata": {},
     "output_type": "execute_result"
    }
   ],
   "source": [
    "ddf.dtypes"
   ]
  },
  {
   "cell_type": "code",
   "execution_count": 13,
   "metadata": {},
   "outputs": [],
   "source": [
    "# %time ddf.describe().compute()"
   ]
  },
  {
   "cell_type": "markdown",
   "metadata": {},
   "source": [
    "### Add OHE for payment type"
   ]
  },
  {
   "cell_type": "code",
   "execution_count": 14,
   "metadata": {},
   "outputs": [
    {
     "name": "stdout",
     "output_type": "stream",
     "text": [
      "CPU times: user 2.05 ms, sys: 297 µs, total: 2.35 ms\n",
      "Wall time: 1.97 ms\n"
     ]
    },
    {
     "data": {
      "text/plain": [
       "OneHotEncoder(categories='auto', drop=None, dtype=<class 'numpy.float64'>,\n",
       "              handle_unknown='error', sparse=False)"
      ]
     },
     "execution_count": 14,
     "metadata": {},
     "output_type": "execute_result"
    }
   ],
   "source": [
    "from dask_ml.preprocessing import OneHotEncoder\n",
    "\n",
    "# init encoder\n",
    "encoder = OneHotEncoder(sparse=False)\n",
    "\n",
    "# Transform categories for Dask, don't have enough hard drive space to handle a full OHE\n",
    "# categorical_columns = ddf.select_dtypes(['category']).columns\n",
    "categorical_columns = ['payment_type']\n",
    "ddf[categorical_columns] = ddf[categorical_columns].categorize()\n",
    "\n",
    "%time encoder.fit(ddf[categorical_columns])"
   ]
  },
  {
   "cell_type": "code",
   "execution_count": 15,
   "metadata": {},
   "outputs": [
    {
     "name": "stdout",
     "output_type": "stream",
     "text": [
      "CPU times: user 6.51 ms, sys: 0 ns, total: 6.51 ms\n",
      "Wall time: 6.35 ms\n"
     ]
    }
   ],
   "source": [
    "# Transform to OHE\n",
    "%time ddf_temp = encoder.transform(ddf[categorical_columns])"
   ]
  },
  {
   "cell_type": "code",
   "execution_count": 16,
   "metadata": {},
   "outputs": [
    {
     "name": "stderr",
     "output_type": "stream",
     "text": [
      "/home/justin/.conda/envs/ml_env/lib/python3.7/site-packages/dask/dataframe/multi.py:1094: UserWarning: Concatenating dataframes with unknown divisions.\n",
      "We're assuming that the indexes of each dataframes are \n",
      " aligned. This assumption is not generally safe.\n",
      "  \"Concatenating dataframes with unknown divisions.\\n\"\n"
     ]
    }
   ],
   "source": [
    "import dask.dataframe as dd\n",
    "ddf = dd.concat([ddf, ddf_temp], axis=1)"
   ]
  },
  {
   "cell_type": "code",
   "execution_count": 17,
   "metadata": {},
   "outputs": [
    {
     "name": "stdout",
     "output_type": "stream",
     "text": [
      "CPU times: user 18.7 s, sys: 2.68 s, total: 21.4 s\n",
      "Wall time: 2min 56s\n"
     ]
    }
   ],
   "source": [
    "# Ignoring the warning message for now, the indices are the same in this case\n",
    "%time correlations = ddf.corr().compute()"
   ]
  },
  {
   "cell_type": "code",
   "execution_count": 18,
   "metadata": {},
   "outputs": [
    {
     "name": "stdout",
     "output_type": "stream",
     "text": [
      "\n",
      "passenger_count         -0.003554\n",
      "trip_distance            0.113030\n",
      "fare_amount              0.045267\n",
      "extra                    0.076791\n",
      "mta_tax                 -0.091437\n",
      "tolls_amount             0.389426\n",
      "improvement_surcharge    0.000342\n",
      "total_amount_wo_tip      0.050178\n",
      "payment_type_1           0.476373\n",
      "payment_type_2          -0.468886\n",
      "payment_type_3          -0.051849\n",
      "payment_type_4          -0.027792\n",
      "payment_type_5           0.000134\n",
      "Name: tip_amount, dtype: float64\n",
      "\n",
      "passenger_count         -0.002685\n",
      "trip_distance            0.000392\n",
      "fare_amount             -0.000354\n",
      "extra                    0.000783\n",
      "mta_tax                 -0.014493\n",
      "tolls_amount             0.002404\n",
      "improvement_surcharge    0.000096\n",
      "total_amount_wo_tip     -0.000326\n",
      "payment_type_1           0.122390\n",
      "payment_type_2          -0.120488\n",
      "payment_type_3          -0.013247\n",
      "payment_type_4          -0.007024\n",
      "payment_type_5          -0.000009\n",
      "Name: tip_fraction, dtype: float64\n",
      "\n",
      "passenger_count         -0.019394\n",
      "trip_distance            0.005851\n",
      "fare_amount              0.001849\n",
      "extra                    0.023919\n",
      "mta_tax                  0.023597\n",
      "tolls_amount             0.028027\n",
      "improvement_surcharge    0.000807\n",
      "total_amount_wo_tip      0.002291\n",
      "payment_type_1           0.926400\n",
      "payment_type_2          -0.911909\n",
      "payment_type_3          -0.100574\n",
      "payment_type_4          -0.053710\n",
      "payment_type_5          -0.000113\n",
      "Name: tipped, dtype: float64\n"
     ]
    }
   ],
   "source": [
    "def prt_corr(correlations, targets):\n",
    "    \"\"\"\n",
    "    Prints the correlations, ignoring correlations between target variables\n",
    "    \"\"\"\n",
    "    for target in targets:\n",
    "        print()\n",
    "        inputs = [x for x in correlations.index if not x in config.targets]\n",
    "\n",
    "        corr_temp = correlations[target][inputs]\n",
    "        print(corr_temp)\n",
    "    \n",
    "prt_corr(correlations, config.targets)"
   ]
  },
  {
   "cell_type": "markdown",
   "metadata": {},
   "source": [
    "## Explore Tipping Distributions"
   ]
  },
  {
   "cell_type": "markdown",
   "metadata": {},
   "source": [
    "Let's start by looking at the distribution of tipping behavior"
   ]
  },
  {
   "cell_type": "code",
   "execution_count": 19,
   "metadata": {},
   "outputs": [],
   "source": [
    "import dask.array as da\n",
    "import numpy as np\n",
    "bin_count = 50"
   ]
  },
  {
   "cell_type": "code",
   "execution_count": 20,
   "metadata": {},
   "outputs": [],
   "source": [
    "def get_hist_bins(ddf, target, bin_count, range_lst):\n",
    "    \"\"\"\n",
    "    Gets bins and histogram arrays using Dask engine\n",
    "    \"\"\"\n",
    "    number_of_sample = len(ddf)\n",
    "    h, bins = da.histogram(ddf[target], bins=bin_count, range=range_lst)\n",
    "    hist_values = h.compute()\n",
    "    return bins, hist_values/number_of_sample\n",
    "\n",
    "def write_figure(target, bins, hist, write_to):\n",
    "    \"\"\"\n",
    "    Creates a figure from bins and histogram values\n",
    "    \"\"\"\n",
    "    # For spacing between bins\n",
    "    x = 0.5 * (bins[1:] + bins[:-1])\n",
    "    width = np.diff(bins)\n",
    "    \n",
    "    plt.ylabel('Relative Frequency')\n",
    "    plt.xlabel(target)\n",
    "    plt.title(target + ' distribution')\n",
    "    plt.bar(x, hist, width)\n",
    "    plt.savefig(write_to)"
   ]
  },
  {
   "cell_type": "code",
   "execution_count": 21,
   "metadata": {},
   "outputs": [
    {
     "data": {
      "image/png": "[encoded data removed]",
      "text/plain": [
       "<Figure size 432x288 with 1 Axes>"
      ]
     },
     "metadata": {
      "needs_background": "light"
     },
     "output_type": "display_data"
    }
   ],
   "source": [
    "target = 'tip_amount'\n",
    "writing_path = Path(figures_dir, 'tip_amount_density_bar')\n",
    "bins, hist = get_hist_bins(ddf, target, bin_count=bin_count, range_lst=[0,20])\n",
    "write_figure(target, bins, hist, writing_path)"
   ]
  },
  {
   "cell_type": "code",
   "execution_count": 22,
   "metadata": {},
   "outputs": [
    {
     "data": {
      "image/png": "[encoded data removed]",
      "text/plain": [
       "<Figure size 432x288 with 1 Axes>"
      ]
     },
     "metadata": {
      "needs_background": "light"
     },
     "output_type": "display_data"
    }
   ],
   "source": [
    "target = 'total_amount_wo_tip'\n",
    "writing_path = Path(figures_dir, 'total_amount_wo_tip_density_bar')\n",
    "bins, hist = get_hist_bins(ddf, target, bin_count=bin_count, range_lst=[0,80])\n",
    "write_figure(target, bins, hist, writing_path)"
   ]
  },
  {
   "cell_type": "markdown",
   "metadata": {},
   "source": [
    "These have similar distributions, perhaps there is some threshold point at which people feel more obliged to tip. There may be more signal in tip fraction"
   ]
  },
  {
   "cell_type": "code",
   "execution_count": 23,
   "metadata": {},
   "outputs": [
    {
     "data": {
      "image/png": "[encoded data removed]",
      "text/plain": [
       "<Figure size 432x288 with 1 Axes>"
      ]
     },
     "metadata": {
      "needs_background": "light"
     },
     "output_type": "display_data"
    }
   ],
   "source": [
    "target = 'tip_fraction'\n",
    "writing_path = Path(figures_dir, 'tip_fraction_density_bar')\n",
    "bins, hist = get_hist_bins(ddf, target, bin_count=bin_count, range_lst=[0,1])\n",
    "write_figure(target, bins, hist, writing_path)"
   ]
  },
  {
   "cell_type": "markdown",
   "metadata": {},
   "source": [
    "Seems that the majority of riders will either tip around 20% to the driver, or not at all. Perhaps this is a reporting issue with payment types though - where credit card payments are not being recorded.  "
   ]
  },
  {
   "cell_type": "markdown",
   "metadata": {},
   "source": [
    "## Tip by location"
   ]
  },
  {
   "cell_type": "code",
   "execution_count": 24,
   "metadata": {},
   "outputs": [],
   "source": [
    "# We'll use tip fraction here since it seems to give a better signal than tip amount\n",
    "tip = 'tip_fraction'"
   ]
  },
  {
   "cell_type": "code",
   "execution_count": 85,
   "metadata": {},
   "outputs": [],
   "source": [
    "pu_location = 'PULocationID'\n",
    "tip_by_pu_loc_res = ddf.groupby(pu_location).agg({tip: ['mean', 'std', 'count'],\n",
    "                                               'trip_distance': ['mean'], \n",
    "                                               'fare_amount': ['mean']}).compute()"
   ]
  },
  {
   "cell_type": "code",
   "execution_count": 86,
   "metadata": {},
   "outputs": [
    {
     "name": "stdout",
     "output_type": "stream",
     "text": [
      "             tip_fraction                   trip_distance fare_amount\n",
      "                     mean        std  count          mean        mean\n",
      "PULocationID                                                         \n",
      "30              17.335462  62.257281     27     10.200370   20.751852\n",
      "109              8.542717  44.811353     57      5.882456   47.604737\n",
      "154              1.501598  27.662754    381     13.587690   52.697375\n",
      "94               1.434918  46.610920   1150      4.730722   19.920122\n",
      "44               1.337546   5.954951     42     15.245238   48.561905\n",
      "265              1.142580  20.006365  53916      3.101143   70.363637\n",
      "1                0.906380  13.696299   8513      2.004142   76.694931\n",
      "253              0.898734  13.852365    348      9.352989   40.566667\n",
      "208              0.851021  23.816183   1775      8.201792   31.373504\n",
      "117              0.544585   9.700321    680     14.898324   55.749368\n",
      "5                0.425196   3.244145    135     19.268519   71.134148\n",
      "201              0.294843   1.947871    228     12.484123   41.047763\n",
      "155              0.289013  10.046508   3173      8.685632   30.743111\n",
      "28               0.203881   8.375416   9272      9.314929  134.722293\n",
      "19               0.197242   6.797493   1828      6.588835   28.367319\n",
      "199              0.192845   0.150484     19      3.464737   13.394737\n",
      "84               0.170293   0.964469     54      7.642778   46.457407\n",
      "214              0.168998   0.634791    127      9.650236   38.658268\n",
      "101              0.166997   5.172748   1400     10.693407   36.548136\n",
      "206              0.164262   1.276661    220     11.766364   42.546136\n"
     ]
    }
   ],
   "source": [
    "print(tip_by_pu_loc_res.sort_values((tip, 'mean'), ascending=False)[:20])"
   ]
  },
  {
   "cell_type": "code",
   "execution_count": 80,
   "metadata": {},
   "outputs": [],
   "source": [
    "do_location = 'DOLocationID'\n",
    "tip_by_do_loc_res = ddf.groupby(do_location).agg({tip: ['mean', 'std', 'count'],\n",
    "                                               'trip_distance': ['mean'], \n",
    "                                               'fare_amount': ['mean']}).compute()"
   ]
  },
  {
   "cell_type": "code",
   "execution_count": 83,
   "metadata": {},
   "outputs": [
    {
     "name": "stdout",
     "output_type": "stream",
     "text": [
      "             tip_fraction                     trip_distance fare_amount\n",
      "                     mean        std    count          mean        mean\n",
      "DOLocationID                                                           \n",
      "30               1.337177  17.033909      374     14.448155   41.545401\n",
      "109              0.527996  10.087923     1144     22.740358   66.273750\n",
      "265              0.444751  11.173953   266434     14.643916   74.994107\n",
      "115              0.368833  11.095051     1774     17.836353   51.646578\n",
      "94               0.227437  16.954103     8703      9.761202   31.376359\n",
      "1                0.185763   3.780659   211946     17.258683   71.875257\n",
      "199              0.166051   0.154611       20      3.897500   13.800000\n",
      "138              0.165014   0.732902  1243742     10.066921   32.660940\n",
      "40               0.160513   0.402690   125259      6.767021   23.132462\n",
      "52               0.158929   0.173198    92269      6.179111   21.651485\n",
      "189              0.154620   0.232280   112251      6.747661   24.634934\n",
      "257              0.152783   0.423696    53739      9.732003   30.938602\n",
      "181              0.152682   0.217164   363731      7.226205   25.583486\n",
      "33               0.151420   0.167705   323874      5.466485   19.773406\n",
      "5                0.151101   1.360490      773     26.106184   75.694903\n",
      "204              0.150519   1.088949      625     27.369040   77.988704\n",
      "54               0.150018   0.145719    30625      6.369707   21.791651\n",
      "255              0.149352   0.577364   304712      5.848168   21.351949\n",
      "112              0.147859   0.157616   252950      5.469443   19.767924\n",
      "249              0.146527   0.359389  1805177      1.984546    9.998273\n"
     ]
    }
   ],
   "source": [
    "print(tip_by_do_loc_res.sort_values((tip, 'mean'), ascending=False)[:20])"
   ]
  },
  {
   "cell_type": "code",
   "execution_count": 87,
   "metadata": {},
   "outputs": [
    {
     "data": {
      "text/html": [
       "<div>\n",
       "<style scoped>\n",
       "    .dataframe tbody tr th:only-of-type {\n",
       "        vertical-align: middle;\n",
       "    }\n",
       "\n",
       "    .dataframe tbody tr th {\n",
       "        vertical-align: top;\n",
       "    }\n",
       "\n",
       "    .dataframe thead tr th {\n",
       "        text-align: left;\n",
       "    }\n",
       "</style>\n",
       "<table border=\"1\" class=\"dataframe\">\n",
       "  <thead>\n",
       "    <tr>\n",
       "      <th></th>\n",
       "      <th></th>\n",
       "      <th colspan=\"3\" halign=\"left\">tip_fraction</th>\n",
       "      <th>trip_distance</th>\n",
       "      <th>fare_amount</th>\n",
       "    </tr>\n",
       "    <tr>\n",
       "      <th></th>\n",
       "      <th></th>\n",
       "      <th>mean</th>\n",
       "      <th>std</th>\n",
       "      <th>count</th>\n",
       "      <th>mean</th>\n",
       "      <th>mean</th>\n",
       "    </tr>\n",
       "  </thead>\n",
       "  <tbody>\n",
       "    <tr>\n",
       "      <th rowspan=\"3\" valign=\"top\">tip_fraction</th>\n",
       "      <th>mean</th>\n",
       "      <td>1.000000</td>\n",
       "      <td>0.813697</td>\n",
       "      <td>-0.033755</td>\n",
       "      <td>0.092218</td>\n",
       "      <td>0.074273</td>\n",
       "    </tr>\n",
       "    <tr>\n",
       "      <th>std</th>\n",
       "      <td>0.813697</td>\n",
       "      <td>1.000000</td>\n",
       "      <td>-0.096713</td>\n",
       "      <td>0.143066</td>\n",
       "      <td>0.223976</td>\n",
       "    </tr>\n",
       "    <tr>\n",
       "      <th>count</th>\n",
       "      <td>-0.033755</td>\n",
       "      <td>-0.096713</td>\n",
       "      <td>1.000000</td>\n",
       "      <td>-0.391942</td>\n",
       "      <td>-0.340333</td>\n",
       "    </tr>\n",
       "    <tr>\n",
       "      <th>trip_distance</th>\n",
       "      <th>mean</th>\n",
       "      <td>0.092218</td>\n",
       "      <td>0.143066</td>\n",
       "      <td>-0.391942</td>\n",
       "      <td>1.000000</td>\n",
       "      <td>0.760719</td>\n",
       "    </tr>\n",
       "    <tr>\n",
       "      <th>fare_amount</th>\n",
       "      <th>mean</th>\n",
       "      <td>0.074273</td>\n",
       "      <td>0.223976</td>\n",
       "      <td>-0.340333</td>\n",
       "      <td>0.760719</td>\n",
       "      <td>1.000000</td>\n",
       "    </tr>\n",
       "  </tbody>\n",
       "</table>\n",
       "</div>"
      ],
      "text/plain": [
       "                    tip_fraction                     trip_distance fare_amount\n",
       "                            mean       std     count          mean        mean\n",
       "tip_fraction  mean      1.000000  0.813697 -0.033755      0.092218    0.074273\n",
       "              std       0.813697  1.000000 -0.096713      0.143066    0.223976\n",
       "              count    -0.033755 -0.096713  1.000000     -0.391942   -0.340333\n",
       "trip_distance mean      0.092218  0.143066 -0.391942      1.000000    0.760719\n",
       "fare_amount   mean      0.074273  0.223976 -0.340333      0.760719    1.000000"
      ]
     },
     "execution_count": 87,
     "metadata": {},
     "output_type": "execute_result"
    }
   ],
   "source": [
    "tip_by_pu_loc_res.corr()"
   ]
  },
  {
   "cell_type": "markdown",
   "metadata": {},
   "source": [
    "Trip distance correlates highly with fare_amount, as you might expect, but doesn't associate with tip fraction. "
   ]
  },
  {
   "cell_type": "markdown",
   "metadata": {},
   "source": [
    "Pick up location seems to be a more important factor for very high tips. While small samples make me doubt the importance of some of the top PULocation in the top tip_fraction cases, it seems like PuLocation 265 could be a good place for taxi drivers to hangout if they want to increase their tips - unless something else is going on to greatly increase those numbers, maybe we've found some money laundering scheme"
   ]
  },
  {
   "cell_type": "markdown",
   "metadata": {},
   "source": [
    "## Seasonal trends"
   ]
  },
  {
   "cell_type": "markdown",
   "metadata": {},
   "source": [
    "### Tips by day of the week"
   ]
  },
  {
   "cell_type": "code",
   "execution_count": 95,
   "metadata": {},
   "outputs": [],
   "source": [
    "# Using picking time as the timestamp\n",
    "ts = 'tpep_pickup_datetime'"
   ]
  },
  {
   "cell_type": "code",
   "execution_count": 96,
   "metadata": {},
   "outputs": [
    {
     "name": "stdout",
     "output_type": "stream",
     "text": [
      "CPU times: user 2.59 s, sys: 398 ms, total: 2.99 s\n",
      "Wall time: 25.7 s\n"
     ]
    }
   ],
   "source": [
    "%time day_of_week_tips = ddf.groupby([ddf[ts].dt.dayofweek]).agg({tip: ['mean', 'std', 'count']}).compute()"
   ]
  },
  {
   "cell_type": "code",
   "execution_count": 97,
   "metadata": {},
   "outputs": [],
   "source": [
    "days_dict = {'Monday':0, \n",
    "             'Tuesday':1, \n",
    "             'Wednesday':2, \n",
    "             'Thursday':3, \n",
    "             'Friday':4, \n",
    "             'Saturday': 5, \n",
    "             'Sunday':6}"
   ]
  },
  {
   "cell_type": "code",
   "execution_count": 98,
   "metadata": {},
   "outputs": [],
   "source": [
    "index_map = {y:x for x, y in days_dict.items()}\n",
    "day_of_week_tips.index = day_of_week_tips.index.map(index_map)"
   ]
  },
  {
   "cell_type": "code",
   "execution_count": 99,
   "metadata": {},
   "outputs": [
    {
     "name": "stdout",
     "output_type": "stream",
     "text": [
      "                     tip_fraction                    \n",
      "                             mean       std     count\n",
      "tpep_pickup_datetime                                 \n",
      "Monday                   0.131513  0.795732  14879162\n",
      "Tuesday                  0.134655  0.622968  15986547\n",
      "Wednesday                0.135222  0.769716  16182062\n",
      "Thursday                 0.135341  0.677671  17174383\n",
      "Friday                   0.131413  0.745635  17334732\n",
      "Saturday                 0.124838  0.717446  16550357\n",
      "Sunday                   0.126649  0.636842  14127383\n"
     ]
    }
   ],
   "source": [
    "# TODO - is it reasonable that a std is so high? Will use the standard error for now\n",
    "import math\n",
    "print(day_of_week_tips)"
   ]
  },
  {
   "cell_type": "code",
   "execution_count": 100,
   "metadata": {},
   "outputs": [
    {
     "data": {
      "image/png": "[encoded data removed]",
      "text/plain": [
       "<Figure size 432x288 with 1 Axes>"
      ]
     },
     "metadata": {
      "needs_background": "light"
     },
     "output_type": "display_data"
    }
   ],
   "source": [
    "# import matplotlib.pyplot as plt\n",
    "bar_plt = day_of_week_tips[(tip,'mean')].plot.bar()"
   ]
  },
  {
   "cell_type": "code",
   "execution_count": 182,
   "metadata": {},
   "outputs": [],
   "source": [
    "def plot_scatter(result_df, target, x_label, write_to, se = False):\n",
    "    \"\"\"\n",
    "    Plot the timeframe results in a scatter plot, showing standard error for the sample\n",
    "    \"\"\"\n",
    "    plt.plot(result_df.index,\n",
    "                result_df[(target,'mean')])\n",
    "    \n",
    "    if se:\n",
    "        # Get standard error from standard deviation - this seems to largely dissapear based on large sample size\n",
    "        result_df[(tip, 'se')] = result_df[(tip, 'std')] \\\n",
    "                                        / (result_df[(tip, 'count')].apply(lambda x: math.sqrt(x)))\n",
    "        plt.errorbar(result_df.index, \n",
    "                     result_df[(target,'mean')],\n",
    "                     result_df[(target,'se')]\n",
    "                     ecolor ='b')\n",
    "    \n",
    "    plt.xlabel(x_label)\n",
    "    plt.ylabel(target)\n",
    "    plt.title('Scatter Plot of ' + target + ' by '+ x_label)\n",
    "    plt.savefig(write_to)\n",
    "    "
   ]
  },
  {
   "cell_type": "code",
   "execution_count": 183,
   "metadata": {},
   "outputs": [
    {
     "data": {
      "image/png": "[encoded data removed]",
      "text/plain": [
       "<Figure size 432x288 with 1 Axes>"
      ]
     },
     "metadata": {
      "needs_background": "light"
     },
     "output_type": "display_data"
    }
   ],
   "source": [
    "writing_path = Path(figures_dir, 'scatter_tip_fraction_by_day')\n",
    "plot_scatter(day_of_week_tips, tip, 'Day of Week', writing_path, se=True)"
   ]
  },
  {
   "cell_type": "markdown",
   "metadata": {},
   "source": [
    "There appears to be lower tips over the weekend. It would be interesting to compare what other factors might affect reported tips on that day"
   ]
  },
  {
   "cell_type": "code",
   "execution_count": 161,
   "metadata": {},
   "outputs": [],
   "source": [
    "hour_of_day_tips = ddf.groupby([ddf[ts].dt.hour]).agg({tip: ['mean', 'std', 'count']}).compute()"
   ]
  },
  {
   "cell_type": "code",
   "execution_count": 184,
   "metadata": {},
   "outputs": [
    {
     "data": {
      "image/png": "[encoded data removed]",
      "text/plain": [
       "<Figure size 432x288 with 1 Axes>"
      ]
     },
     "metadata": {
      "needs_background": "light"
     },
     "output_type": "display_data"
    }
   ],
   "source": [
    "writing_path = Path(figures_dir, 'scatter_tip_fraction_by_hour')\n",
    "plot_scatter(hour_of_day_tips, tip, 'Hour of Day', writing_path, se=True)"
   ]
  },
  {
   "cell_type": "markdown",
   "metadata": {},
   "source": [
    "There appears to be a decrease in the tip fraction over time of day, with a deep dip in the early morning, and spike in rush-hour commuting hours into the early evening. Will need to compare this to payment type. "
   ]
  },
  {
   "cell_type": "markdown",
   "metadata": {},
   "source": [
    "### Hourly trends during the week relative to Saturday and Sunday"
   ]
  },
  {
   "cell_type": "code",
   "execution_count": 163,
   "metadata": {},
   "outputs": [
    {
     "name": "stdout",
     "output_type": "stream",
     "text": [
      "CPU times: user 2.87 s, sys: 249 ms, total: 3.12 s\n",
      "Wall time: 25.3 s\n"
     ]
    }
   ],
   "source": [
    "%time saturday_tips = ddf.groupby([ddf[ts].dt.dayofweek == 5]).agg({tip: ['mean', 'std', 'count']}).compute()"
   ]
  },
  {
   "cell_type": "code",
   "execution_count": 164,
   "metadata": {},
   "outputs": [
    {
     "name": "stdout",
     "output_type": "stream",
     "text": [
      "                     tip_fraction                    \n",
      "                             mean       std     count\n",
      "tpep_pickup_datetime                                 \n",
      "False                    0.132616  0.711717  95684269\n",
      "True                     0.124838  0.717446  16550357\n"
     ]
    }
   ],
   "source": [
    "print(saturday_tips)"
   ]
  },
  {
   "cell_type": "markdown",
   "metadata": {},
   "source": [
    "Let's look at tiping behavior over the course of the year, averaging result by day"
   ]
  },
  {
   "cell_type": "code",
   "execution_count": 165,
   "metadata": {},
   "outputs": [
    {
     "name": "stdout",
     "output_type": "stream",
     "text": [
      "CPU times: user 6.17 s, sys: 666 ms, total: 6.84 s\n",
      "Wall time: 1min 43s\n"
     ]
    }
   ],
   "source": [
    "%time day_mean_tips = ddf.groupby([ddf[ts].dt.date])[tip].mean().compute()"
   ]
  },
  {
   "cell_type": "code",
   "execution_count": 166,
   "metadata": {},
   "outputs": [],
   "source": [
    "# print(day_mean_tips)"
   ]
  },
  {
   "cell_type": "code",
   "execution_count": 167,
   "metadata": {},
   "outputs": [],
   "source": [
    "\"\"\"\n",
    "Cleanup and plot result\n",
    "\"\"\"\n",
    "day_mean_tips.sort_index(inplace=True)"
   ]
  },
  {
   "cell_type": "code",
   "execution_count": 168,
   "metadata": {},
   "outputs": [],
   "source": [
    "# Transform indices back to datetime objects for filtering\n",
    "day_mean_tips.index = pd.to_datetime(day_mean_tips.index.to_series())\n",
    "results = {index: row for index, row in day_mean_tips.iteritems() if index.year == 2018}"
   ]
  },
  {
   "cell_type": "code",
   "execution_count": 169,
   "metadata": {},
   "outputs": [],
   "source": [
    "filtered_day_mean_tips = day_mean_tips[day_mean_tips.index.year == 2018]\n",
    "# filtered_day_mean_tips.plot()"
   ]
  },
  {
   "cell_type": "markdown",
   "metadata": {},
   "source": [
    "#### Aggregate by week"
   ]
  },
  {
   "cell_type": "code",
   "execution_count": 170,
   "metadata": {},
   "outputs": [
    {
     "name": "stdout",
     "output_type": "stream",
     "text": [
      "<class 'pandas.core.series.Series'>\n"
     ]
    }
   ],
   "source": [
    "print(type(filtered_day_mean_tips))"
   ]
  },
  {
   "cell_type": "code",
   "execution_count": 171,
   "metadata": {},
   "outputs": [],
   "source": [
    "weekly_mean_tips = filtered_day_mean_tips.groupby([filtered_day_mean_tips.index.to_series().dt.week]).mean()"
   ]
  },
  {
   "cell_type": "code",
   "execution_count": 179,
   "metadata": {},
   "outputs": [
    {
     "data": {
      "image/png": "[encoded data removed]",
      "text/plain": [
       "<Figure size 432x288 with 1 Axes>"
      ]
     },
     "metadata": {
      "needs_background": "light"
     },
     "output_type": "display_data"
    }
   ],
   "source": [
    "weekly_mean_tips_df = pd.DataFrame()\n",
    "weekly_mean_tips_df[(tip, 'mean')] = weekly_mean_tips\n",
    "\n",
    "writing_path = Path(figures_dir, 'scatter_tip_by_week')\n",
    "plot_scatter(weekly_mean_tips_df, tip, 'Day of Week', writing_path)\n",
    "# print(weekly_mean_tips_df)"
   ]
  },
  {
   "cell_type": "code",
   "execution_count": 175,
   "metadata": {},
   "outputs": [
    {
     "name": "stdout",
     "output_type": "stream",
     "text": [
      "(52,)\n"
     ]
    },
    {
     "data": {
      "text/plain": [
       "<matplotlib.axes._subplots.AxesSubplot at 0x7f785e809d10>"
      ]
     },
     "execution_count": 175,
     "metadata": {},
     "output_type": "execute_result"
    },
    {
     "data": {
      "image/png": "[encoded data removed]",
      "text/plain": [
       "<Figure size 432x288 with 1 Axes>"
      ]
     },
     "metadata": {
      "needs_background": "light"
     },
     "output_type": "display_data"
    }
   ],
   "source": [
    "print(weekly_mean_tips.shape)\n",
    "weekly_mean_tips.plot()"
   ]
  },
  {
   "cell_type": "markdown",
   "metadata": {},
   "source": [
    "#### Aggregate by month"
   ]
  },
  {
   "cell_type": "code",
   "execution_count": null,
   "metadata": {},
   "outputs": [],
   "source": [
    "%time monthly_mean_tips = filtered_day_mean_tips.groupby([filtered_day_mean_tips.index.to_series().dt.month]).mean()"
   ]
  },
  {
   "cell_type": "code",
   "execution_count": null,
   "metadata": {},
   "outputs": [],
   "source": [
    "# print(monthly_mean_tips.shape)\n",
    "# monthly_mean_tips.plot(x='Month', y=tip, title='Month, ')\n",
    "\n",
    "monthly_mean_tips_df = pd.DataFrame()\n",
    "monthly_mean_tips_df[(tip, 'mean')] = weekly_mean_tips\n",
    "\n",
    "writing_path = Path(figures_dir, 'scatter_tip_by_month')\n",
    "plot_scatter(weekly_mean_tips_df, tip, 'Day of Week', writing_path)\n",
    "# print(weekly_mean_tips_df)"
   ]
  },
  {
   "cell_type": "markdown",
   "metadata": {},
   "source": [
    "Seems there is some cyclicality to tipping (e.g., a spike in the fall/early winter months)."
   ]
  }
 ],
 "metadata": {
  "kernelspec": {
   "display_name": "ml_env",
   "language": "python",
   "name": "ml_env"
  },
  "language_info": {
   "codemirror_mode": {
    "name": "ipython",
    "version": 3
   },
   "file_extension": ".py",
   "mimetype": "text/x-python",
   "name": "python",
   "nbconvert_exporter": "python",
   "pygments_lexer": "ipython3",
   "version": "3.7.7"
  }
 },
 "nbformat": 4,
 "nbformat_minor": 4
}
