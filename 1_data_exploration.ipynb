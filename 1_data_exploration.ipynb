{
 "cells": [
  {
   "cell_type": "markdown",
   "metadata": {},
   "source": [
    "## Data Exploration"
   ]
  },
  {
   "cell_type": "code",
   "execution_count": 1,
   "metadata": {},
   "outputs": [],
   "source": [
    "# Extension reloader to import a function again when re-running cell \n",
    "%load_ext autoreload\n",
    "%autoreload 2"
   ]
  },
  {
   "cell_type": "code",
   "execution_count": 2,
   "metadata": {},
   "outputs": [],
   "source": [
    "%matplotlib inline\n",
    "import matplotlib.pyplot as plt"
   ]
  },
  {
   "cell_type": "code",
   "execution_count": 3,
   "metadata": {},
   "outputs": [
    {
     "name": "stdout",
     "output_type": "stream",
     "text": [
      "Started: 2020-05-18_16-36-36\n"
     ]
    }
   ],
   "source": [
    "from datetime import datetime\n",
    "program_start_time = datetime.now().strftime('%Y-%m-%d_%H-%M-%S')\n",
    "print('Started: '+ program_start_time)"
   ]
  },
  {
   "cell_type": "markdown",
   "metadata": {},
   "source": [
    "### Load configuration"
   ]
  },
  {
   "cell_type": "code",
   "execution_count": 4,
   "metadata": {},
   "outputs": [
    {
     "name": "stdout",
     "output_type": "stream",
     "text": [
      "Loading configuration from: /home/justin/Code/interpretability_experiment/config.ini\n"
     ]
    }
   ],
   "source": [
    "\"\"\"\n",
    "Loads common configuration parameters\n",
    "\"\"\"\n",
    "from src.utils.configuration_manager import Config\n",
    "from pathlib import PurePath\n",
    "from os import getcwd\n",
    "\n",
    "config_path = PurePath(getcwd(),'config.ini')\n",
    "config = Config(config_path)"
   ]
  },
  {
   "cell_type": "markdown",
   "metadata": {},
   "source": [
    "### Start local Dask Client"
   ]
  },
  {
   "cell_type": "code",
   "execution_count": 5,
   "metadata": {},
   "outputs": [
    {
     "name": "stdout",
     "output_type": "stream",
     "text": [
      "Setting new client\n",
      "<Client: 'tcp://127.0.0.1:41635' processes=5 threads=10, memory=25.00 GB>\n"
     ]
    },
    {
     "data": {
      "text/html": [
       "<table style=\"border: 2px solid white;\">\n",
       "<tr>\n",
       "<td style=\"vertical-align: top; border: 0px solid white\">\n",
       "<h3 style=\"text-align: left;\">Client</h3>\n",
       "<ul style=\"text-align: left; list-style: none; margin: 0; padding: 0;\">\n",
       "  <li><b>Scheduler: </b>tcp://127.0.0.1:41635</li>\n",
       "  <li><b>Dashboard: </b><a href='http://127.0.0.1:20100/status' target='_blank'>http://127.0.0.1:20100/status</a>\n",
       "</ul>\n",
       "</td>\n",
       "<td style=\"vertical-align: top; border: 0px solid white\">\n",
       "<h3 style=\"text-align: left;\">Cluster</h3>\n",
       "<ul style=\"text-align: left; list-style:none; margin: 0; padding: 0;\">\n",
       "  <li><b>Workers: </b>5</li>\n",
       "  <li><b>Cores: </b>10</li>\n",
       "  <li><b>Memory: </b>25.00 GB</li>\n",
       "</ul>\n",
       "</td>\n",
       "</tr>\n",
       "</table>"
      ],
      "text/plain": [
       "<Client: 'tcp://127.0.0.1:41635' processes=5 threads=10, memory=25.00 GB>"
      ]
     },
     "execution_count": 5,
     "metadata": {},
     "output_type": "execute_result"
    }
   ],
   "source": [
    "from dask.distributed import Client, LocalCluster\n",
    "try:\n",
    "    if client:\n",
    "        print('Restarting client')\n",
    "        client.restart()\n",
    "except:\n",
    "    cluster = LocalCluster(dashboard_address=':20100', memory_limit='5G')\n",
    "#     cluster = LocalCluster(dashboard_address=':20100')\n",
    "    print('Setting new client')\n",
    "    client = Client(cluster)\n",
    "    print(client)\n",
    "client"
   ]
  },
  {
   "cell_type": "markdown",
   "metadata": {},
   "source": [
    "### Prepare Dataset"
   ]
  },
  {
   "cell_type": "code",
   "execution_count": 6,
   "metadata": {},
   "outputs": [],
   "source": [
    "\"\"\"\n",
    "Loads the dataset file based on configuration \n",
    "\"\"\"\n",
    "from src.preprocessing.dataset_manager import DatasetManager\n",
    "dataset_manager = DatasetManager(config)"
   ]
  },
  {
   "cell_type": "code",
   "execution_count": 7,
   "metadata": {},
   "outputs": [
    {
     "name": "stdout",
     "output_type": "stream",
     "text": [
      "Not overwriting existing training and test sets\n",
      "CPU times: user 406 µs, sys: 56 µs, total: 462 µs\n",
      "Wall time: 279 µs\n"
     ]
    }
   ],
   "source": [
    "%time dataset_manager.write_dataset(overwrite=False)"
   ]
  },
  {
   "cell_type": "code",
   "execution_count": 8,
   "metadata": {},
   "outputs": [],
   "source": [
    "ddf = dataset_manager.load_ddf()"
   ]
  },
  {
   "cell_type": "code",
   "execution_count": 9,
   "metadata": {},
   "outputs": [
    {
     "data": {
      "text/plain": [
       "326"
      ]
     },
     "execution_count": 9,
     "metadata": {},
     "output_type": "execute_result"
    }
   ],
   "source": [
    "ddf.npartitions"
   ]
  },
  {
   "cell_type": "code",
   "execution_count": 10,
   "metadata": {},
   "outputs": [],
   "source": [
    "# ddf = ddf.repartition(npartitions=10000)"
   ]
  },
  {
   "cell_type": "markdown",
   "metadata": {},
   "source": [
    "## Basic Data Statistics"
   ]
  },
  {
   "cell_type": "code",
   "execution_count": 11,
   "metadata": {},
   "outputs": [
    {
     "data": {
      "text/plain": [
       "VendorID                       category\n",
       "tpep_pickup_datetime     datetime64[ns]\n",
       "tpep_dropoff_datetime    datetime64[ns]\n",
       "passenger_count                 float64\n",
       "trip_distance                   float64\n",
       "RatecodeID                     category\n",
       "PULocationID                   category\n",
       "DOLocationID                   category\n",
       "payment_type                   category\n",
       "fare_amount                     float64\n",
       "extra                           float64\n",
       "mta_tax                         float64\n",
       "tip_amount                      float64\n",
       "tolls_amount                    float64\n",
       "improvement_surcharge           float64\n",
       "total_amount_wo_tip             float64\n",
       "tip_fraction                    float64\n",
       "tipped                             bool\n",
       "dtype: object"
      ]
     },
     "execution_count": 11,
     "metadata": {},
     "output_type": "execute_result"
    }
   ],
   "source": [
    "ddf.dtypes"
   ]
  },
  {
   "cell_type": "code",
   "execution_count": 12,
   "metadata": {},
   "outputs": [],
   "source": [
    "# %time ddf.describe().compute()"
   ]
  },
  {
   "cell_type": "markdown",
   "metadata": {},
   "source": [
    "### OHE for categorical test"
   ]
  },
  {
   "cell_type": "code",
   "execution_count": 13,
   "metadata": {},
   "outputs": [
    {
     "name": "stdout",
     "output_type": "stream",
     "text": [
      "CPU times: user 5.95 ms, sys: 4.08 ms, total: 10 ms\n",
      "Wall time: 8.09 ms\n"
     ]
    },
    {
     "data": {
      "text/plain": [
       "OneHotEncoder(categories='auto', drop=None, dtype=<class 'numpy.float64'>,\n",
       "              handle_unknown='error', sparse=False)"
      ]
     },
     "execution_count": 13,
     "metadata": {},
     "output_type": "execute_result"
    }
   ],
   "source": [
    "from dask_ml.preprocessing import OneHotEncoder\n",
    "\n",
    "# init encoder\n",
    "encoder = OneHotEncoder(sparse=False)\n",
    "\n",
    "# Transform categories for Dask\n",
    "# categorical_columns = ddf.select_dtypes(['category']).columns\n",
    "categorical_columns = ['payment_type']\n",
    "ddf[categorical_columns] = ddf[categorical_columns].categorize()\n",
    "\n",
    "%time encoder.fit(ddf[categorical_columns])"
   ]
  },
  {
   "cell_type": "code",
   "execution_count": 14,
   "metadata": {},
   "outputs": [
    {
     "name": "stdout",
     "output_type": "stream",
     "text": [
      "CPU times: user 8.49 ms, sys: 97 µs, total: 8.58 ms\n",
      "Wall time: 7.01 ms\n"
     ]
    }
   ],
   "source": [
    "# Transform to OHE\n",
    "%time ddf_temp = encoder.transform(ddf[categorical_columns])"
   ]
  },
  {
   "cell_type": "code",
   "execution_count": 15,
   "metadata": {},
   "outputs": [
    {
     "name": "stderr",
     "output_type": "stream",
     "text": [
      "/home/justin/.conda/envs/ml_env/lib/python3.7/site-packages/dask/dataframe/multi.py:1094: UserWarning: Concatenating dataframes with unknown divisions.\n",
      "We're assuming that the indexes of each dataframes are \n",
      " aligned. This assumption is not generally safe.\n",
      "  \"Concatenating dataframes with unknown divisions.\\n\"\n"
     ]
    }
   ],
   "source": [
    "import dask.dataframe as dd\n",
    "ddf = dd.concat([ddf, ddf_temp], axis=1)"
   ]
  },
  {
   "cell_type": "code",
   "execution_count": 16,
   "metadata": {},
   "outputs": [
    {
     "name": "stdout",
     "output_type": "stream",
     "text": [
      "CPU times: user 36.3 s, sys: 3.92 s, total: 40.2 s\n",
      "Wall time: 2min 57s\n"
     ]
    }
   ],
   "source": [
    "# Ignoring the warning message for now, the indices are the same in this case\n",
    "%time correlations = ddf.corr().compute()"
   ]
  },
  {
   "cell_type": "code",
   "execution_count": 17,
   "metadata": {},
   "outputs": [
    {
     "name": "stdout",
     "output_type": "stream",
     "text": [
      "\n",
      "passenger_count         -0.003554\n",
      "trip_distance            0.113030\n",
      "fare_amount              0.045267\n",
      "extra                    0.076791\n",
      "mta_tax                 -0.091437\n",
      "tolls_amount             0.389426\n",
      "improvement_surcharge    0.000342\n",
      "total_amount_wo_tip      0.050178\n",
      "payment_type_1           0.476373\n",
      "payment_type_2          -0.468886\n",
      "payment_type_3          -0.051849\n",
      "payment_type_4          -0.027792\n",
      "payment_type_5           0.000134\n",
      "Name: tip_amount, dtype: float64\n",
      "\n",
      "passenger_count         -0.002685\n",
      "trip_distance            0.000392\n",
      "fare_amount             -0.000354\n",
      "extra                    0.000783\n",
      "mta_tax                 -0.014493\n",
      "tolls_amount             0.002404\n",
      "improvement_surcharge    0.000096\n",
      "total_amount_wo_tip     -0.000326\n",
      "payment_type_1           0.122390\n",
      "payment_type_2          -0.120488\n",
      "payment_type_3          -0.013247\n",
      "payment_type_4          -0.007024\n",
      "payment_type_5          -0.000009\n",
      "Name: tip_fraction, dtype: float64\n",
      "\n",
      "passenger_count         -0.019394\n",
      "trip_distance            0.005851\n",
      "fare_amount              0.001849\n",
      "extra                    0.023919\n",
      "mta_tax                  0.023597\n",
      "tolls_amount             0.028027\n",
      "improvement_surcharge    0.000807\n",
      "total_amount_wo_tip      0.002291\n",
      "payment_type_1           0.926400\n",
      "payment_type_2          -0.911909\n",
      "payment_type_3          -0.100574\n",
      "payment_type_4          -0.053710\n",
      "payment_type_5          -0.000113\n",
      "Name: tipped, dtype: float64\n"
     ]
    }
   ],
   "source": [
    "def prt_corr(correlations, targets):\n",
    "    \"\"\"\n",
    "    Prints the correlations, ignoring correlations between target variables\n",
    "    \"\"\"\n",
    "    for target in targets:\n",
    "        print()\n",
    "        inputs = [x for x in correlations.index if not x in config.targets]\n",
    "\n",
    "        corr_temp = correlations[target][inputs]\n",
    "        print(corr_temp)\n",
    "    \n",
    "prt_corr(correlations, config.targets)"
   ]
  },
  {
   "cell_type": "markdown",
   "metadata": {},
   "source": [
    "Let's start by looking at the distribution of tipping behavior"
   ]
  },
  {
   "cell_type": "code",
   "execution_count": 63,
   "metadata": {},
   "outputs": [],
   "source": [
    "import dask.array as da\n",
    "\n",
    "def prt_distributions(target, bins, range_lst):\n",
    "    h, bins = da.histogram(ddf[target], bins=bins, range=range_lst)\n",
    "    hist_values = h.compute()\n",
    "    print(bins)\n",
    "    print(hist_values)\n",
    "    \n",
    "    bins = [round(x, 2) for x in bins]\n",
    "    plt.bar(range(range_lst[0], range_lst[1]), hist_values)\n",
    "    plt.xticks(range(0,20), bins, rotation='vertical')\n",
    "    plt.ylabel('Transaction count')\n",
    "    plt.xlabel(target)\n",
    "    plt.title(target + 'including \"no tip\"')\n",
    "    plt.show()"
   ]
  },
  {
   "cell_type": "code",
   "execution_count": 64,
   "metadata": {},
   "outputs": [
    {
     "name": "stdout",
     "output_type": "stream",
     "text": [
      "[ 0.  1.  2.  3.  4.  5.  6.  7.  8.  9. 10. 11. 12. 13. 14. 15. 16. 17.\n",
      " 18. 19. 20.]\n",
      "[41032511 31289386 19598995  7927211  3576582  2436707  1322279  1093873\n",
      "   892567   509164   745044   833729   276708   120189   195406   123364\n",
      "    35193    62391    30550    37733]\n"
     ]
    },
    {
     "data": {
      "image/png": "[encoded data removed]",
      "text/plain": [
       "<Figure size 432x288 with 1 Axes>"
      ]
     },
     "metadata": {
      "needs_background": "light"
     },
     "output_type": "display_data"
    }
   ],
   "source": [
    "prt_distributions('tip_amount', bins=20, range_lst=[0,20])"
   ]
  },
  {
   "cell_type": "code",
   "execution_count": 98,
   "metadata": {},
   "outputs": [],
   "source": [
    "import numpy as np"
   ]
  },
  {
   "cell_type": "code",
   "execution_count": 102,
   "metadata": {},
   "outputs": [
    {
     "data": {
      "image/png": "[encoded data removed]",
      "text/plain": [
       "<Figure size 432x288 with 1 Axes>"
      ]
     },
     "metadata": {
      "needs_background": "light"
     },
     "output_type": "display_data"
    }
   ],
   "source": [
    "target = 'tip_fraction'\n",
    "\n",
    "def get_hist_bins(target, bins, range_lst):\n",
    "    h, bins = da.histogram(ddf[target], bins=bins, range=range_lst)\n",
    "    hist_values = h.compute()\n",
    "    return bins, hist_values\n",
    "\n",
    "bins, hist = get_hist_bins(target, bins=30, range_lst=[0,1])\n",
    "\n",
    "x = 0.5 * (bins[1:] + bins[:-1])\n",
    "width = np.diff(bins)\n",
    "plt.ylabel('Transaction count')\n",
    "plt.xlabel(target)\n",
    "plt.title(target + ' distribution')\n",
    "\n",
    "plt.bar(x, hist, width);"
   ]
  },
  {
   "cell_type": "code",
   "execution_count": 100,
   "metadata": {},
   "outputs": [],
   "source": [
    "# bins, hist_values"
   ]
  },
  {
   "cell_type": "code",
   "execution_count": 101,
   "metadata": {},
   "outputs": [],
   "source": [
    "# bins, hist"
   ]
  },
  {
   "cell_type": "code",
   "execution_count": null,
   "metadata": {},
   "outputs": [],
   "source": []
  },
  {
   "cell_type": "markdown",
   "metadata": {},
   "source": [
    "This could follow the total amounts pretty closely, let's check"
   ]
  },
  {
   "cell_type": "code",
   "execution_count": 22,
   "metadata": {},
   "outputs": [],
   "source": [
    "import dask.array as da\n",
    "h, bins = da.histogram(ddf['total_amount_wo_tip'], bins=30, range=[0, 100])\n",
    "hist_values = h.compute()"
   ]
  },
  {
   "cell_type": "code",
   "execution_count": 23,
   "metadata": {},
   "outputs": [
    {
     "data": {
      "image/png": "[encoded data removed]",
      "text/plain": [
       "<Figure size 432x288 with 1 Axes>"
      ]
     },
     "metadata": {
      "needs_background": "light"
     },
     "output_type": "display_data"
    }
   ],
   "source": [
    "bins = [round(x, 2) for x in bins]\n",
    "plt.bar(range(0,30), hist_values)\n",
    "plt.xticks(range(0,30), bins, rotation='vertical')\n",
    "plt.ylabel('Transaction count')\n",
    "plt.xlabel('Total amount')\n",
    "plt.title('Total amounts distribution')\n",
    "plt.show()"
   ]
  },
  {
   "cell_type": "markdown",
   "metadata": {},
   "source": [
    "These have similar distributions, perhaps there is some threshold point at which people feel more obliged to tip"
   ]
  },
  {
   "cell_type": "markdown",
   "metadata": {},
   "source": [
    "## Seasonal trends"
   ]
  },
  {
   "cell_type": "markdown",
   "metadata": {},
   "source": [
    "### Tip by location"
   ]
  },
  {
   "cell_type": "code",
   "execution_count": 24,
   "metadata": {},
   "outputs": [],
   "source": [
    "pu_location = 'PULocationID'\n",
    "do_location = 'DOLocationID'\n",
    "tip = 'tip_amount'"
   ]
  },
  {
   "cell_type": "code",
   "execution_count": 25,
   "metadata": {},
   "outputs": [],
   "source": [
    "tip_by_region = ddf.groupby(pu_location)[tip].mean()"
   ]
  },
  {
   "cell_type": "code",
   "execution_count": 26,
   "metadata": {},
   "outputs": [
    {
     "data": {
      "text/plain": [
       "PULocationID\n",
       "1      10.791346\n",
       "10      6.435483\n",
       "100     1.481584\n",
       "101     1.403136\n",
       "102     1.161811\n",
       "         ...    \n",
       "109     6.477368\n",
       "110     1.185000\n",
       "99      1.015000\n",
       "199     3.179474\n",
       "104     0.000000\n",
       "Name: tip_amount, Length: 264, dtype: float64"
      ]
     },
     "execution_count": 26,
     "metadata": {},
     "output_type": "execute_result"
    }
   ],
   "source": [
    "tip_by_region.compute()"
   ]
  },
  {
   "cell_type": "markdown",
   "metadata": {},
   "source": [
    "### Tips by day of the week"
   ]
  },
  {
   "cell_type": "code",
   "execution_count": 27,
   "metadata": {},
   "outputs": [],
   "source": [
    "# Using picking time as the timestamp\n",
    "ts = 'tpep_pickup_datetime'"
   ]
  },
  {
   "cell_type": "code",
   "execution_count": 28,
   "metadata": {},
   "outputs": [
    {
     "name": "stdout",
     "output_type": "stream",
     "text": [
      "CPU times: user 4.47 s, sys: 505 ms, total: 4.98 s\n",
      "Wall time: 26 s\n"
     ]
    }
   ],
   "source": [
    "%time day_of_week_tips = ddf.groupby([ddf[ts].dt.dayofweek]).agg({tip: ['mean', 'std', 'count']}).compute()"
   ]
  },
  {
   "cell_type": "code",
   "execution_count": 29,
   "metadata": {},
   "outputs": [],
   "source": [
    "days_dict = {'Monday':0, \n",
    "             'Tuesday':1, \n",
    "             'Wednesday':2, \n",
    "             'Thursday':3, \n",
    "             'Friday':4, \n",
    "             'Saturday': 5, \n",
    "             'Sunday':6}"
   ]
  },
  {
   "cell_type": "code",
   "execution_count": 30,
   "metadata": {},
   "outputs": [],
   "source": [
    "index_map = {y:x for x, y in days_dict.items()}\n",
    "day_of_week_tips.index = day_of_week_tips.index.map(index_map)"
   ]
  },
  {
   "cell_type": "code",
   "execution_count": 31,
   "metadata": {},
   "outputs": [
    {
     "name": "stdout",
     "output_type": "stream",
     "text": [
      "                     tip_amount                    \n",
      "                           mean       std     count\n",
      "tpep_pickup_datetime                               \n",
      "Monday                 1.899035  2.683273  14879162\n",
      "Tuesday                1.920912  2.563087  15986547\n",
      "Wednesday              1.932224  2.571662  16182062\n",
      "Thursday               1.988110  2.675753  17174383\n",
      "Friday                 1.898200  2.651803  17334732\n",
      "Saturday               1.657446  2.391524  16550357\n",
      "Sunday                 1.801010  2.706392  14127383\n"
     ]
    }
   ],
   "source": [
    "print(day_of_week_tips)"
   ]
  },
  {
   "cell_type": "code",
   "execution_count": 32,
   "metadata": {},
   "outputs": [
    {
     "data": {
      "image/png": "[encoded data removed]",
      "text/plain": [
       "<Figure size 432x288 with 1 Axes>"
      ]
     },
     "metadata": {
      "needs_background": "light"
     },
     "output_type": "display_data"
    }
   ],
   "source": [
    "# import matplotlib.pyplot as plt\n",
    "bar_plt = day_of_week_tips[('tip_amount','mean')].plot.bar()"
   ]
  },
  {
   "cell_type": "code",
   "execution_count": 33,
   "metadata": {},
   "outputs": [
    {
     "data": {
      "text/plain": [
       "<ErrorbarContainer object of 3 artists>"
      ]
     },
     "execution_count": 33,
     "metadata": {},
     "output_type": "execute_result"
    },
    {
     "data": {
      "image/png": "[encoded data removed]",
      "text/plain": [
       "<Figure size 432x288 with 1 Axes>"
      ]
     },
     "metadata": {
      "needs_background": "light"
     },
     "output_type": "display_data"
    }
   ],
   "source": [
    "plt.scatter(day_of_week_tips.index, \n",
    "        day_of_week_tips[('tip_amount','mean')])\n",
    "        \n",
    "plt.errorbar(day_of_week_tips.index, \n",
    "             day_of_week_tips[('tip_amount','mean')],\n",
    "             day_of_week_tips[('tip_amount','std')])"
   ]
  },
  {
   "cell_type": "markdown",
   "metadata": {},
   "source": [
    "There appears to be lower tips on Saturdays. It would be interesting to compare what other factors might affect reported tips on that day"
   ]
  },
  {
   "cell_type": "markdown",
   "metadata": {},
   "source": [
    "### Hourly trends during the week relative to Saturday and Sunday"
   ]
  },
  {
   "cell_type": "code",
   "execution_count": 34,
   "metadata": {},
   "outputs": [
    {
     "name": "stdout",
     "output_type": "stream",
     "text": [
      "CPU times: user 4.58 s, sys: 520 ms, total: 5.1 s\n",
      "Wall time: 25.9 s\n"
     ]
    }
   ],
   "source": [
    "%time monday_tips = ddf.groupby([ddf[ts].dt.dayofweek == 5]).agg({tip: ['mean', 'std', 'count']}).compute()"
   ]
  },
  {
   "cell_type": "code",
   "execution_count": 35,
   "metadata": {},
   "outputs": [
    {
     "name": "stdout",
     "output_type": "stream",
     "text": [
      "                     tip_amount                    \n",
      "                           mean       std     count\n",
      "tpep_pickup_datetime                               \n",
      "False                  1.909667  2.641810  95684269\n",
      "True                   1.657446  2.391524  16550357\n"
     ]
    }
   ],
   "source": [
    "print(monday_tips)"
   ]
  },
  {
   "cell_type": "markdown",
   "metadata": {},
   "source": [
    "Let's look at tiping behavior over the course of the year, averaging result by day"
   ]
  },
  {
   "cell_type": "code",
   "execution_count": 36,
   "metadata": {},
   "outputs": [
    {
     "name": "stdout",
     "output_type": "stream",
     "text": [
      "CPU times: user 11.4 s, sys: 1.33 s, total: 12.7 s\n",
      "Wall time: 2min 8s\n"
     ]
    }
   ],
   "source": [
    "%time day_mean_tips = ddf.groupby([ddf[ts].dt.date])[tip].mean().compute()"
   ]
  },
  {
   "cell_type": "code",
   "execution_count": 37,
   "metadata": {},
   "outputs": [
    {
     "name": "stdout",
     "output_type": "stream",
     "text": [
      "tpep_pickup_datetime\n",
      "2009-01-01    1.394906\n",
      "2018-11-07    2.069009\n",
      "2018-12-01    1.707368\n",
      "2018-12-02    1.817992\n",
      "2018-12-03    2.030543\n",
      "                ...   \n",
      "2018-11-03    1.679070\n",
      "2019-11-20    1.700000\n",
      "2019-11-21    0.352000\n",
      "2019-01-04    2.145000\n",
      "2019-01-26    1.180000\n",
      "Name: tip_amount, Length: 445, dtype: float64\n"
     ]
    }
   ],
   "source": [
    "print(day_mean_tips)"
   ]
  },
  {
   "cell_type": "code",
   "execution_count": 38,
   "metadata": {},
   "outputs": [],
   "source": [
    "\"\"\"\n",
    "Cleanup and plot result\n",
    "\"\"\"\n",
    "day_mean_tips.sort_index(inplace=True)"
   ]
  },
  {
   "cell_type": "code",
   "execution_count": 39,
   "metadata": {},
   "outputs": [],
   "source": [
    "import pandas as pd\n",
    "# Transform indices back to datetime objects for filtering\n",
    "day_mean_tips.index = pd.to_datetime(day_mean_tips.index.to_series())\n",
    "# results = {index: row for index, row in day_mean_tips.iteritems() if index.year == 2018}"
   ]
  },
  {
   "cell_type": "code",
   "execution_count": 40,
   "metadata": {},
   "outputs": [
    {
     "data": {
      "text/plain": [
       "<matplotlib.axes._subplots.AxesSubplot at 0x7fd2df228310>"
      ]
     },
     "execution_count": 40,
     "metadata": {},
     "output_type": "execute_result"
    },
    {
     "data": {
      "image/png": "[encoded data removed]",
      "text/plain": [
       "<Figure size 432x288 with 1 Axes>"
      ]
     },
     "metadata": {
      "needs_background": "light"
     },
     "output_type": "display_data"
    }
   ],
   "source": [
    "filtered_day_mean_tips = day_mean_tips[day_mean_tips.index.year == 2018]\n",
    "filtered_day_mean_tips.plot()"
   ]
  },
  {
   "cell_type": "markdown",
   "metadata": {},
   "source": [
    "#### Aggregate by week"
   ]
  },
  {
   "cell_type": "code",
   "execution_count": 41,
   "metadata": {},
   "outputs": [
    {
     "name": "stdout",
     "output_type": "stream",
     "text": [
      "CPU times: user 4.04 ms, sys: 471 µs, total: 4.52 ms\n",
      "Wall time: 6.1 ms\n"
     ]
    }
   ],
   "source": [
    "%time weekly_mean_tips = filtered_day_mean_tips.groupby([filtered_day_mean_tips.index.to_series().dt.week]).mean()"
   ]
  },
  {
   "cell_type": "code",
   "execution_count": 42,
   "metadata": {},
   "outputs": [
    {
     "name": "stdout",
     "output_type": "stream",
     "text": [
      "(52,)\n"
     ]
    },
    {
     "data": {
      "text/plain": [
       "<matplotlib.axes._subplots.AxesSubplot at 0x7fd2db73da90>"
      ]
     },
     "execution_count": 42,
     "metadata": {},
     "output_type": "execute_result"
    },
    {
     "data": {
      "image/png": "[encoded data removed]",
      "text/plain": [
       "<Figure size 432x288 with 1 Axes>"
      ]
     },
     "metadata": {
      "needs_background": "light"
     },
     "output_type": "display_data"
    }
   ],
   "source": [
    "print(weekly_mean_tips.shape)\n",
    "weekly_mean_tips.plot()"
   ]
  },
  {
   "cell_type": "markdown",
   "metadata": {},
   "source": [
    "#### Aggregate by month"
   ]
  },
  {
   "cell_type": "code",
   "execution_count": 43,
   "metadata": {},
   "outputs": [
    {
     "name": "stdout",
     "output_type": "stream",
     "text": [
      "CPU times: user 2.75 ms, sys: 0 ns, total: 2.75 ms\n",
      "Wall time: 2.45 ms\n"
     ]
    }
   ],
   "source": [
    "%time monthly_mean_tips = filtered_day_mean_tips.groupby([filtered_day_mean_tips.index.to_series().dt.month]).mean()"
   ]
  },
  {
   "cell_type": "code",
   "execution_count": 44,
   "metadata": {},
   "outputs": [
    {
     "name": "stdout",
     "output_type": "stream",
     "text": [
      "(12,)\n"
     ]
    },
    {
     "data": {
      "text/plain": [
       "<matplotlib.axes._subplots.AxesSubplot at 0x7fd2df012510>"
      ]
     },
     "execution_count": 44,
     "metadata": {},
     "output_type": "execute_result"
    },
    {
     "data": {
      "image/png": "[encoded data removed]",
      "text/plain": [
       "<Figure size 432x288 with 1 Axes>"
      ]
     },
     "metadata": {
      "needs_background": "light"
     },
     "output_type": "display_data"
    }
   ],
   "source": [
    "print(monthly_mean_tips.shape)\n",
    "monthly_mean_tips.plot()"
   ]
  },
  {
   "cell_type": "markdown",
   "metadata": {},
   "source": [
    "Seems there is some cyclicality to tipping (e.g., a spike in the fall/early winter months). We'd have to look at other things like the variance to gauge how meaninful this trend is. "
   ]
  }
 ],
 "metadata": {
  "kernelspec": {
   "display_name": "ml_env",
   "language": "python",
   "name": "ml_env"
  },
  "language_info": {
   "codemirror_mode": {
    "name": "ipython",
    "version": 3
   },
   "file_extension": ".py",
   "mimetype": "text/x-python",
   "name": "python",
   "nbconvert_exporter": "python",
   "pygments_lexer": "ipython3",
   "version": "3.7.7"
  }
 },
 "nbformat": 4,
 "nbformat_minor": 4
}
