{
 "cells": [
  {
   "cell_type": "markdown",
   "metadata": {},
   "source": [
    "## Data Exploration"
   ]
  },
  {
   "cell_type": "code",
   "execution_count": null,
   "metadata": {},
   "outputs": [],
   "source": [
    "# Extension reloader to import a function again when re-running cell \n",
    "%load_ext autoreload\n",
    "%autoreload 2"
   ]
  },
  {
   "cell_type": "code",
   "execution_count": null,
   "metadata": {},
   "outputs": [],
   "source": [
    "%matplotlib inline\n",
    "import matplotlib.pyplot as plt"
   ]
  },
  {
   "cell_type": "code",
   "execution_count": null,
   "metadata": {},
   "outputs": [],
   "source": [
    "from datetime import datetime\n",
    "program_start_time = datetime.now().strftime('%Y-%m-%d_%H-%M-%S')\n",
    "print('Started: '+ program_start_time)"
   ]
  },
  {
   "cell_type": "markdown",
   "metadata": {},
   "source": [
    "### Load configuration"
   ]
  },
  {
   "cell_type": "code",
   "execution_count": null,
   "metadata": {},
   "outputs": [],
   "source": [
    "\"\"\"\n",
    "Loads common configuration parameters\n",
    "\"\"\"\n",
    "from src.utils.configuration_manager import Config\n",
    "from pathlib import Path, PurePath\n",
    "from os import getcwd\n",
    "\n",
    "config_path = PurePath(getcwd(),'config.ini')\n",
    "config = Config(config_path)"
   ]
  },
  {
   "cell_type": "markdown",
   "metadata": {},
   "source": [
    "### Figures subdirectory"
   ]
  },
  {
   "cell_type": "code",
   "execution_count": 5,
   "metadata": {},
   "outputs": [],
   "source": [
    "figures_dir = Path(config.figures_dir, 'data_exploration')\n",
    "figures_dir.mkdir(parents=True, exist_ok=True)"
   ]
  },
  {
   "cell_type": "markdown",
   "metadata": {},
   "source": [
    "### Start local Dask Client"
   ]
  },
  {
   "cell_type": "code",
   "execution_count": 6,
   "metadata": {},
   "outputs": [
    {
     "name": "stdout",
     "output_type": "stream",
     "text": [
      "Setting new client\n",
      "<Client: 'tcp://127.0.0.1:45197' processes=5 threads=10, memory=25.00 GB>\n"
     ]
    },
    {
     "data": {
      "text/html": [
       "<table style=\"border: 2px solid white;\">\n",
       "<tr>\n",
       "<td style=\"vertical-align: top; border: 0px solid white\">\n",
       "<h3 style=\"text-align: left;\">Client</h3>\n",
       "<ul style=\"text-align: left; list-style: none; margin: 0; padding: 0;\">\n",
       "  <li><b>Scheduler: </b>tcp://127.0.0.1:45197</li>\n",
       "  <li><b>Dashboard: </b><a href='http://127.0.0.1:20100/status' target='_blank'>http://127.0.0.1:20100/status</a>\n",
       "</ul>\n",
       "</td>\n",
       "<td style=\"vertical-align: top; border: 0px solid white\">\n",
       "<h3 style=\"text-align: left;\">Cluster</h3>\n",
       "<ul style=\"text-align: left; list-style:none; margin: 0; padding: 0;\">\n",
       "  <li><b>Workers: </b>5</li>\n",
       "  <li><b>Cores: </b>10</li>\n",
       "  <li><b>Memory: </b>25.00 GB</li>\n",
       "</ul>\n",
       "</td>\n",
       "</tr>\n",
       "</table>"
      ],
      "text/plain": [
       "<Client: 'tcp://127.0.0.1:45197' processes=5 threads=10, memory=25.00 GB>"
      ]
     },
     "execution_count": 6,
     "metadata": {},
     "output_type": "execute_result"
    }
   ],
   "source": [
    "from dask.distributed import Client, LocalCluster\n",
    "try:\n",
    "    if client:\n",
    "        print('Restarting client')\n",
    "        client.restart()\n",
    "except:\n",
    "    cluster = LocalCluster(dashboard_address=':20100', memory_limit='5G')\n",
    "#     cluster = LocalCluster(dashboard_address=':20100')\n",
    "    print('Setting new client')\n",
    "    client = Client(cluster)\n",
    "    print(client)\n",
    "client"
   ]
  },
  {
   "cell_type": "markdown",
   "metadata": {},
   "source": [
    "### Prepare Dataset"
   ]
  },
  {
   "cell_type": "code",
   "execution_count": 7,
   "metadata": {},
   "outputs": [],
   "source": [
    "\"\"\"\n",
    "Loads the dataset file based on configuration \n",
    "\"\"\"\n",
    "from src.preprocessing.dataset_manager import DatasetManager\n",
    "dataset_manager = DatasetManager(config)"
   ]
  },
  {
   "cell_type": "code",
   "execution_count": 8,
   "metadata": {},
   "outputs": [
    {
     "name": "stdout",
     "output_type": "stream",
     "text": [
      "Not overwriting existing training and test sets\n",
      "CPU times: user 463 µs, sys: 96 µs, total: 559 µs\n",
      "Wall time: 1.07 ms\n"
     ]
    }
   ],
   "source": [
    "%time dataset_manager.write_dataset(overwrite=False)"
   ]
  },
  {
   "cell_type": "code",
   "execution_count": 9,
   "metadata": {},
   "outputs": [],
   "source": [
    "ddf = dataset_manager.load_ddf()"
   ]
  },
  {
   "cell_type": "code",
   "execution_count": 10,
   "metadata": {},
   "outputs": [
    {
     "data": {
      "text/plain": [
       "326"
      ]
     },
     "execution_count": 10,
     "metadata": {},
     "output_type": "execute_result"
    }
   ],
   "source": [
    "ddf.npartitions"
   ]
  },
  {
   "cell_type": "code",
   "execution_count": 11,
   "metadata": {},
   "outputs": [],
   "source": [
    "# ddf = ddf.repartition(npartitions=10000)"
   ]
  },
  {
   "cell_type": "markdown",
   "metadata": {},
   "source": [
    "## Basic Data Statistics"
   ]
  },
  {
   "cell_type": "code",
   "execution_count": 12,
   "metadata": {},
   "outputs": [
    {
     "data": {
      "text/plain": [
       "VendorID                       category\n",
       "tpep_pickup_datetime     datetime64[ns]\n",
       "tpep_dropoff_datetime    datetime64[ns]\n",
       "passenger_count                 float64\n",
       "trip_distance                   float64\n",
       "RatecodeID                     category\n",
       "PULocationID                   category\n",
       "DOLocationID                   category\n",
       "payment_type                   category\n",
       "fare_amount                     float64\n",
       "extra                           float64\n",
       "mta_tax                         float64\n",
       "tip_amount                      float64\n",
       "tolls_amount                    float64\n",
       "improvement_surcharge           float64\n",
       "total_amount_wo_tip             float64\n",
       "tip_fraction                    float64\n",
       "tipped                             bool\n",
       "dtype: object"
      ]
     },
     "execution_count": 12,
     "metadata": {},
     "output_type": "execute_result"
    }
   ],
   "source": [
    "ddf.dtypes"
   ]
  },
  {
   "cell_type": "code",
   "execution_count": 13,
   "metadata": {},
   "outputs": [
    {
     "name": "stdout",
     "output_type": "stream",
     "text": [
      "CPU times: user 40.3 s, sys: 3 s, total: 43.3 s\n",
      "Wall time: 7min 3s\n"
     ]
    },
    {
     "data": {
      "text/html": [
       "<div>\n",
       "<style scoped>\n",
       "    .dataframe tbody tr th:only-of-type {\n",
       "        vertical-align: middle;\n",
       "    }\n",
       "\n",
       "    .dataframe tbody tr th {\n",
       "        vertical-align: top;\n",
       "    }\n",
       "\n",
       "    .dataframe thead th {\n",
       "        text-align: right;\n",
       "    }\n",
       "</style>\n",
       "<table border=\"1\" class=\"dataframe\">\n",
       "  <thead>\n",
       "    <tr style=\"text-align: right;\">\n",
       "      <th></th>\n",
       "      <th>passenger_count</th>\n",
       "      <th>trip_distance</th>\n",
       "      <th>fare_amount</th>\n",
       "      <th>extra</th>\n",
       "      <th>mta_tax</th>\n",
       "      <th>tip_amount</th>\n",
       "      <th>tolls_amount</th>\n",
       "      <th>improvement_surcharge</th>\n",
       "      <th>total_amount_wo_tip</th>\n",
       "      <th>tip_fraction</th>\n",
       "    </tr>\n",
       "  </thead>\n",
       "  <tbody>\n",
       "    <tr>\n",
       "      <th>count</th>\n",
       "      <td>1.122346e+08</td>\n",
       "      <td>1.122346e+08</td>\n",
       "      <td>1.122346e+08</td>\n",
       "      <td>1.122346e+08</td>\n",
       "      <td>1.122346e+08</td>\n",
       "      <td>1.122346e+08</td>\n",
       "      <td>1.122346e+08</td>\n",
       "      <td>1.122346e+08</td>\n",
       "      <td>1.122346e+08</td>\n",
       "      <td>1.122346e+08</td>\n",
       "    </tr>\n",
       "    <tr>\n",
       "      <th>mean</th>\n",
       "      <td>1.595515e+00</td>\n",
       "      <td>2.929440e+00</td>\n",
       "      <td>1.302615e+01</td>\n",
       "      <td>3.310082e-01</td>\n",
       "      <td>4.971520e-01</td>\n",
       "      <td>1.872474e+00</td>\n",
       "      <td>3.450687e-01</td>\n",
       "      <td>2.996225e-01</td>\n",
       "      <td>1.450270e+01</td>\n",
       "      <td>1.314691e-01</td>\n",
       "    </tr>\n",
       "    <tr>\n",
       "      <th>std</th>\n",
       "      <td>1.241769e+00</td>\n",
       "      <td>1.833739e+01</td>\n",
       "      <td>1.470310e+02</td>\n",
       "      <td>4.659486e-01</td>\n",
       "      <td>5.218331e-02</td>\n",
       "      <td>2.607947e+00</td>\n",
       "      <td>1.781228e+00</td>\n",
       "      <td>6.046083e-01</td>\n",
       "      <td>1.471259e+02</td>\n",
       "      <td>7.125700e-01</td>\n",
       "    </tr>\n",
       "    <tr>\n",
       "      <th>min</th>\n",
       "      <td>0.000000e+00</td>\n",
       "      <td>0.000000e+00</td>\n",
       "      <td>-8.000000e+02</td>\n",
       "      <td>-8.000000e+01</td>\n",
       "      <td>-5.000000e-01</td>\n",
       "      <td>-3.224200e+02</td>\n",
       "      <td>-5.250000e+01</td>\n",
       "      <td>-3.000000e-01</td>\n",
       "      <td>-8.003000e+02</td>\n",
       "      <td>-3.000000e-01</td>\n",
       "    </tr>\n",
       "    <tr>\n",
       "      <th>25%</th>\n",
       "      <td>1.000000e+00</td>\n",
       "      <td>1.060000e+00</td>\n",
       "      <td>7.000000e+00</td>\n",
       "      <td>0.000000e+00</td>\n",
       "      <td>5.000000e-01</td>\n",
       "      <td>0.000000e+00</td>\n",
       "      <td>0.000000e+00</td>\n",
       "      <td>3.000000e-01</td>\n",
       "      <td>8.300000e+00</td>\n",
       "      <td>0.000000e+00</td>\n",
       "    </tr>\n",
       "    <tr>\n",
       "      <th>50%</th>\n",
       "      <td>1.000000e+00</td>\n",
       "      <td>1.800000e+00</td>\n",
       "      <td>1.050000e+01</td>\n",
       "      <td>5.000000e-01</td>\n",
       "      <td>5.000000e-01</td>\n",
       "      <td>1.650000e+00</td>\n",
       "      <td>0.000000e+00</td>\n",
       "      <td>3.000000e-01</td>\n",
       "      <td>1.130000e+01</td>\n",
       "      <td>1.986301e-01</td>\n",
       "    </tr>\n",
       "    <tr>\n",
       "      <th>75%</th>\n",
       "      <td>2.000000e+00</td>\n",
       "      <td>3.580000e+00</td>\n",
       "      <td>1.750000e+01</td>\n",
       "      <td>1.000000e+00</td>\n",
       "      <td>5.000000e-01</td>\n",
       "      <td>2.850000e+00</td>\n",
       "      <td>0.000000e+00</td>\n",
       "      <td>3.000000e-01</td>\n",
       "      <td>1.830000e+01</td>\n",
       "      <td>2.000000e-01</td>\n",
       "    </tr>\n",
       "    <tr>\n",
       "      <th>max</th>\n",
       "      <td>1.920000e+02</td>\n",
       "      <td>1.894838e+05</td>\n",
       "      <td>9.070702e+05</td>\n",
       "      <td>9.664000e+01</td>\n",
       "      <td>1.500000e+02</td>\n",
       "      <td>9.459700e+02</td>\n",
       "      <td>1.650000e+03</td>\n",
       "      <td>4.000300e+03</td>\n",
       "      <td>9.070710e+05</td>\n",
       "      <td>1.580645e+03</td>\n",
       "    </tr>\n",
       "  </tbody>\n",
       "</table>\n",
       "</div>"
      ],
      "text/plain": [
       "       passenger_count  trip_distance   fare_amount         extra  \\\n",
       "count     1.122346e+08   1.122346e+08  1.122346e+08  1.122346e+08   \n",
       "mean      1.595515e+00   2.929440e+00  1.302615e+01  3.310082e-01   \n",
       "std       1.241769e+00   1.833739e+01  1.470310e+02  4.659486e-01   \n",
       "min       0.000000e+00   0.000000e+00 -8.000000e+02 -8.000000e+01   \n",
       "25%       1.000000e+00   1.060000e+00  7.000000e+00  0.000000e+00   \n",
       "50%       1.000000e+00   1.800000e+00  1.050000e+01  5.000000e-01   \n",
       "75%       2.000000e+00   3.580000e+00  1.750000e+01  1.000000e+00   \n",
       "max       1.920000e+02   1.894838e+05  9.070702e+05  9.664000e+01   \n",
       "\n",
       "            mta_tax    tip_amount  tolls_amount  improvement_surcharge  \\\n",
       "count  1.122346e+08  1.122346e+08  1.122346e+08           1.122346e+08   \n",
       "mean   4.971520e-01  1.872474e+00  3.450687e-01           2.996225e-01   \n",
       "std    5.218331e-02  2.607947e+00  1.781228e+00           6.046083e-01   \n",
       "min   -5.000000e-01 -3.224200e+02 -5.250000e+01          -3.000000e-01   \n",
       "25%    5.000000e-01  0.000000e+00  0.000000e+00           3.000000e-01   \n",
       "50%    5.000000e-01  1.650000e+00  0.000000e+00           3.000000e-01   \n",
       "75%    5.000000e-01  2.850000e+00  0.000000e+00           3.000000e-01   \n",
       "max    1.500000e+02  9.459700e+02  1.650000e+03           4.000300e+03   \n",
       "\n",
       "       total_amount_wo_tip  tip_fraction  \n",
       "count         1.122346e+08  1.122346e+08  \n",
       "mean          1.450270e+01  1.314691e-01  \n",
       "std           1.471259e+02  7.125700e-01  \n",
       "min          -8.003000e+02 -3.000000e-01  \n",
       "25%           8.300000e+00  0.000000e+00  \n",
       "50%           1.130000e+01  1.986301e-01  \n",
       "75%           1.830000e+01  2.000000e-01  \n",
       "max           9.070710e+05  1.580645e+03  "
      ]
     },
     "execution_count": 13,
     "metadata": {},
     "output_type": "execute_result"
    }
   ],
   "source": [
    "%time ddf.describe().compute()"
   ]
  },
  {
   "cell_type": "markdown",
   "metadata": {},
   "source": [
    "### Add OHE for payment type"
   ]
  },
  {
   "cell_type": "code",
   "execution_count": 14,
   "metadata": {},
   "outputs": [
    {
     "name": "stdout",
     "output_type": "stream",
     "text": [
      "CPU times: user 2.17 ms, sys: 0 ns, total: 2.17 ms\n",
      "Wall time: 2.37 ms\n"
     ]
    },
    {
     "data": {
      "text/plain": [
       "OneHotEncoder(categories='auto', drop=None, dtype=<class 'numpy.float64'>,\n",
       "              handle_unknown='error', sparse=False)"
      ]
     },
     "execution_count": 14,
     "metadata": {},
     "output_type": "execute_result"
    }
   ],
   "source": [
    "from dask_ml.preprocessing import OneHotEncoder\n",
    "\n",
    "# init encoder\n",
    "encoder = OneHotEncoder(sparse=False)\n",
    "\n",
    "# Transform categories for Dask\n",
    "# categorical_columns = ddf.select_dtypes(['category']).columns\n",
    "categorical_columns = ['payment_type']\n",
    "ddf[categorical_columns] = ddf[categorical_columns].categorize()\n",
    "\n",
    "%time encoder.fit(ddf[categorical_columns])"
   ]
  },
  {
   "cell_type": "code",
   "execution_count": 15,
   "metadata": {},
   "outputs": [
    {
     "name": "stdout",
     "output_type": "stream",
     "text": [
      "CPU times: user 7.79 ms, sys: 289 µs, total: 8.08 ms\n",
      "Wall time: 7.18 ms\n"
     ]
    }
   ],
   "source": [
    "# Transform to OHE\n",
    "%time ddf_temp = encoder.transform(ddf[categorical_columns])"
   ]
  },
  {
   "cell_type": "code",
   "execution_count": 16,
   "metadata": {},
   "outputs": [
    {
     "name": "stderr",
     "output_type": "stream",
     "text": [
      "/home/justin/.conda/envs/ml_env/lib/python3.7/site-packages/dask/dataframe/multi.py:1094: UserWarning: Concatenating dataframes with unknown divisions.\n",
      "We're assuming that the indexes of each dataframes are \n",
      " aligned. This assumption is not generally safe.\n",
      "  \"Concatenating dataframes with unknown divisions.\\n\"\n"
     ]
    }
   ],
   "source": [
    "import dask.dataframe as dd\n",
    "ddf = dd.concat([ddf, ddf_temp], axis=1)"
   ]
  },
  {
   "cell_type": "code",
   "execution_count": 17,
   "metadata": {},
   "outputs": [
    {
     "name": "stdout",
     "output_type": "stream",
     "text": [
      "CPU times: user 25.2 s, sys: 3.68 s, total: 28.9 s\n",
      "Wall time: 2min 51s\n"
     ]
    }
   ],
   "source": [
    "# Ignoring the warning message for now, the indices are the same in this case\n",
    "%time correlations = ddf.corr().compute()"
   ]
  },
  {
   "cell_type": "code",
   "execution_count": 18,
   "metadata": {},
   "outputs": [
    {
     "name": "stdout",
     "output_type": "stream",
     "text": [
      "\n",
      "passenger_count         -0.003554\n",
      "trip_distance            0.113030\n",
      "fare_amount              0.045267\n",
      "extra                    0.076791\n",
      "mta_tax                 -0.091437\n",
      "tolls_amount             0.389426\n",
      "improvement_surcharge    0.000342\n",
      "total_amount_wo_tip      0.050178\n",
      "payment_type_1           0.476373\n",
      "payment_type_2          -0.468886\n",
      "payment_type_3          -0.051849\n",
      "payment_type_4          -0.027792\n",
      "payment_type_5           0.000134\n",
      "Name: tip_amount, dtype: float64\n",
      "\n",
      "passenger_count         -0.002685\n",
      "trip_distance            0.000392\n",
      "fare_amount             -0.000354\n",
      "extra                    0.000783\n",
      "mta_tax                 -0.014493\n",
      "tolls_amount             0.002404\n",
      "improvement_surcharge    0.000096\n",
      "total_amount_wo_tip     -0.000326\n",
      "payment_type_1           0.122390\n",
      "payment_type_2          -0.120488\n",
      "payment_type_3          -0.013247\n",
      "payment_type_4          -0.007024\n",
      "payment_type_5          -0.000009\n",
      "Name: tip_fraction, dtype: float64\n",
      "\n",
      "passenger_count         -0.019394\n",
      "trip_distance            0.005851\n",
      "fare_amount              0.001849\n",
      "extra                    0.023919\n",
      "mta_tax                  0.023597\n",
      "tolls_amount             0.028027\n",
      "improvement_surcharge    0.000807\n",
      "total_amount_wo_tip      0.002291\n",
      "payment_type_1           0.926400\n",
      "payment_type_2          -0.911909\n",
      "payment_type_3          -0.100574\n",
      "payment_type_4          -0.053710\n",
      "payment_type_5          -0.000113\n",
      "Name: tipped, dtype: float64\n"
     ]
    }
   ],
   "source": [
    "def prt_corr(correlations, targets):\n",
    "    \"\"\"\n",
    "    Prints the correlations, ignoring correlations between target variables\n",
    "    \"\"\"\n",
    "    for target in targets:\n",
    "        print()\n",
    "        inputs = [x for x in correlations.index if not x in config.targets]\n",
    "\n",
    "        corr_temp = correlations[target][inputs]\n",
    "        print(corr_temp)\n",
    "    \n",
    "prt_corr(correlations, config.targets)"
   ]
  },
  {
   "cell_type": "markdown",
   "metadata": {},
   "source": [
    "## Explore Tipping Distributions"
   ]
  },
  {
   "cell_type": "markdown",
   "metadata": {},
   "source": [
    "Let's start by looking at the distribution of tipping behavior"
   ]
  },
  {
   "cell_type": "code",
   "execution_count": 19,
   "metadata": {},
   "outputs": [],
   "source": [
    "import dask.array as da\n",
    "import numpy as np"
   ]
  },
  {
   "cell_type": "code",
   "execution_count": 75,
   "metadata": {},
   "outputs": [],
   "source": [
    "def get_hist_bins(ddf, target, bin_count, range_lst):\n",
    "    \"\"\"\n",
    "    Gets bins and histogram arrays using Dask engine\n",
    "    \"\"\"\n",
    "    h, bins = da.histogram(ddf[target], bins=bin_count, range=range_lst)\n",
    "    hist_values = h.compute()\n",
    "    return bins, hist_values\n",
    "\n",
    "def write_figure(target, bins, hist, write_to):\n",
    "    \"\"\"\n",
    "    Creates a figure from bins and histogram values\n",
    "    \"\"\"\n",
    "    # For spacing between bins\n",
    "    x = 0.5 * (bins[1:] + bins[:-1])\n",
    "    width = np.diff(bins)\n",
    "    \n",
    "    plt.ylabel('Transaction count')\n",
    "    plt.xlabel(target)\n",
    "    plt.title(target + ' distribution')\n",
    "    plt.bar(x, hist, width)\n",
    "    plt.savefig(write_to)"
   ]
  },
  {
   "cell_type": "code",
   "execution_count": 76,
   "metadata": {},
   "outputs": [
    {
     "data": {
      "image/png": "[encoded data removed]",
      "text/plain": [
       "<Figure size 432x288 with 1 Axes>"
      ]
     },
     "metadata": {
      "needs_background": "light"
     },
     "output_type": "display_data"
    }
   ],
   "source": [
    "target = 'tip_amount'\n",
    "writing_path = Path(figures_dir, 'tip_amount_density_bar')\n",
    "bins, hist = get_hist_bins(ddf, target, bin_count=30, range_lst=[0,20])\n",
    "write_figure(target, bins, hist, writing_path)"
   ]
  },
  {
   "cell_type": "code",
   "execution_count": 77,
   "metadata": {},
   "outputs": [
    {
     "data": {
      "image/png": "[encoded data removed]",
      "text/plain": [
       "<Figure size 432x288 with 1 Axes>"
      ]
     },
     "metadata": {
      "needs_background": "light"
     },
     "output_type": "display_data"
    }
   ],
   "source": [
    "target = 'total_amount_wo_tip'\n",
    "writing_path = Path(figures_dir, 'total_amount_wo_tip_density_bar')\n",
    "bins, hist = get_hist_bins(ddf, target, bin_count=30, range_lst=[0,80])\n",
    "write_figure(target, bins, hist, writing_path)"
   ]
  },
  {
   "cell_type": "code",
   "execution_count": 78,
   "metadata": {},
   "outputs": [],
   "source": [
    "# bins = [round(x, 2) for x in bins]\n",
    "# plt.bar(range(0,30), hist_values)\n",
    "# plt.xticks(range(0,30), bins, rotation='vertical')\n",
    "# plt.ylabel('Transaction count')\n",
    "# plt.xlabel('Total amount')\n",
    "# plt.title('Total amounts distribution')\n",
    "# plt.show()"
   ]
  },
  {
   "cell_type": "markdown",
   "metadata": {},
   "source": [
    "These have similar distributions, perhaps there is some threshold point at which people feel more obliged to tip. There may be more signal in tip fraction"
   ]
  },
  {
   "cell_type": "code",
   "execution_count": 79,
   "metadata": {},
   "outputs": [
    {
     "data": {
      "image/png": "[encoded data removed]",
      "text/plain": [
       "<Figure size 432x288 with 1 Axes>"
      ]
     },
     "metadata": {
      "needs_background": "light"
     },
     "output_type": "display_data"
    }
   ],
   "source": [
    "target = 'tip_fraction'\n",
    "writing_path = Path(figures_dir, 'tip_fraction_density_bar')\n",
    "bins, hist = get_hist_bins(ddf, target, bin_count=30, range_lst=[0,1])\n",
    "write_figure(target, bins, hist, writing_path)"
   ]
  },
  {
   "cell_type": "markdown",
   "metadata": {},
   "source": [
    "Seems that the majority of riders will either tip around 20% to the driver, or not at all. Perhaps this is a reporting issue with payment types though - where credit card payments are not being recorded.  "
   ]
  },
  {
   "cell_type": "markdown",
   "metadata": {},
   "source": [
    "## Seasonal trends"
   ]
  },
  {
   "cell_type": "markdown",
   "metadata": {},
   "source": [
    "### Tip by location"
   ]
  },
  {
   "cell_type": "code",
   "execution_count": 83,
   "metadata": {},
   "outputs": [],
   "source": [
    "pu_location = 'PULocationID'\n",
    "do_location = 'DOLocationID'\n",
    "# We'll use tip fraction here since it seems to give a better signal than tip amount\n",
    "tip = 'tip_fraction'"
   ]
  },
  {
   "cell_type": "code",
   "execution_count": 84,
   "metadata": {},
   "outputs": [],
   "source": [
    "tip_by_region = ddf.groupby(pu_location)[tip].mean()"
   ]
  },
  {
   "cell_type": "code",
   "execution_count": 85,
   "metadata": {},
   "outputs": [
    {
     "data": {
      "text/plain": [
       "PULocationID\n",
       "1      0.906380\n",
       "10     0.161191\n",
       "100    0.116176\n",
       "101    0.166997\n",
       "102    0.053740\n",
       "         ...   \n",
       "109    8.542717\n",
       "110    0.102440\n",
       "99     0.058358\n",
       "199    0.192845\n",
       "104    0.000000\n",
       "Name: tip_fraction, Length: 264, dtype: float64"
      ]
     },
     "execution_count": 85,
     "metadata": {},
     "output_type": "execute_result"
    }
   ],
   "source": [
    "tip_by_region.compute()"
   ]
  },
  {
   "cell_type": "markdown",
   "metadata": {},
   "source": [
    "### Tips by day of the week"
   ]
  },
  {
   "cell_type": "code",
   "execution_count": 86,
   "metadata": {},
   "outputs": [],
   "source": [
    "# Using picking time as the timestamp\n",
    "ts = 'tpep_pickup_datetime'"
   ]
  },
  {
   "cell_type": "code",
   "execution_count": 87,
   "metadata": {},
   "outputs": [
    {
     "name": "stdout",
     "output_type": "stream",
     "text": [
      "CPU times: user 3.15 s, sys: 308 ms, total: 3.45 s\n",
      "Wall time: 27.3 s\n"
     ]
    }
   ],
   "source": [
    "%time day_of_week_tips = ddf.groupby([ddf[ts].dt.dayofweek]).agg({tip: ['mean', 'std', 'count']}).compute()"
   ]
  },
  {
   "cell_type": "code",
   "execution_count": 88,
   "metadata": {},
   "outputs": [],
   "source": [
    "days_dict = {'Monday':0, \n",
    "             'Tuesday':1, \n",
    "             'Wednesday':2, \n",
    "             'Thursday':3, \n",
    "             'Friday':4, \n",
    "             'Saturday': 5, \n",
    "             'Sunday':6}"
   ]
  },
  {
   "cell_type": "code",
   "execution_count": 89,
   "metadata": {},
   "outputs": [],
   "source": [
    "index_map = {y:x for x, y in days_dict.items()}\n",
    "day_of_week_tips.index = day_of_week_tips.index.map(index_map)"
   ]
  },
  {
   "cell_type": "code",
   "execution_count": 90,
   "metadata": {},
   "outputs": [
    {
     "name": "stdout",
     "output_type": "stream",
     "text": [
      "                     tip_fraction                    \n",
      "                             mean       std     count\n",
      "tpep_pickup_datetime                                 \n",
      "Monday                   0.131513  0.795732  14879162\n",
      "Tuesday                  0.134655  0.622968  15986547\n",
      "Wednesday                0.135222  0.769716  16182062\n",
      "Thursday                 0.135341  0.677671  17174383\n",
      "Friday                   0.131413  0.745635  17334732\n",
      "Saturday                 0.124838  0.717446  16550357\n",
      "Sunday                   0.126649  0.636842  14127383\n"
     ]
    }
   ],
   "source": [
    "print(day_of_week_tips)"
   ]
  },
  {
   "cell_type": "code",
   "execution_count": 91,
   "metadata": {},
   "outputs": [
    {
     "name": "stdout",
     "output_type": "stream",
     "text": [
      "tip_fraction\n"
     ]
    }
   ],
   "source": [
    "print(tip)"
   ]
  },
  {
   "cell_type": "code",
   "execution_count": 92,
   "metadata": {},
   "outputs": [
    {
     "data": {
      "image/png": "[encoded data removed]",
      "text/plain": [
       "<Figure size 432x288 with 1 Axes>"
      ]
     },
     "metadata": {
      "needs_background": "light"
     },
     "output_type": "display_data"
    }
   ],
   "source": [
    "# import matplotlib.pyplot as plt\n",
    "bar_plt = day_of_week_tips[(tip,'mean')].plot.bar()"
   ]
  },
  {
   "cell_type": "code",
   "execution_count": 93,
   "metadata": {},
   "outputs": [
    {
     "data": {
      "text/plain": [
       "<ErrorbarContainer object of 3 artists>"
      ]
     },
     "execution_count": 93,
     "metadata": {},
     "output_type": "execute_result"
    },
    {
     "data": {
      "image/png": "[encoded data removed]",
      "text/plain": [
       "<Figure size 432x288 with 1 Axes>"
      ]
     },
     "metadata": {
      "needs_background": "light"
     },
     "output_type": "display_data"
    }
   ],
   "source": [
    "plt.scatter(day_of_week_tips.index, \n",
    "        day_of_week_tips[(tip,'mean')])\n",
    "        \n",
    "plt.errorbar(day_of_week_tips.index, \n",
    "             day_of_week_tips[(tip,'mean')],\n",
    "             day_of_week_tips[(tip,'std')])"
   ]
  },
  {
   "cell_type": "markdown",
   "metadata": {},
   "source": [
    "There appears to be lower tips on Saturdays. It would be interesting to compare what other factors might affect reported tips on that day"
   ]
  },
  {
   "cell_type": "markdown",
   "metadata": {},
   "source": [
    "### Hourly trends during the week relative to Saturday and Sunday"
   ]
  },
  {
   "cell_type": "code",
   "execution_count": 36,
   "metadata": {},
   "outputs": [
    {
     "name": "stdout",
     "output_type": "stream",
     "text": [
      "CPU times: user 2.95 s, sys: 437 ms, total: 3.39 s\n",
      "Wall time: 26 s\n"
     ]
    }
   ],
   "source": [
    "%time monday_tips = ddf.groupby([ddf[ts].dt.dayofweek == 5]).agg({tip: ['mean', 'std', 'count']}).compute()"
   ]
  },
  {
   "cell_type": "code",
   "execution_count": 37,
   "metadata": {},
   "outputs": [
    {
     "name": "stdout",
     "output_type": "stream",
     "text": [
      "                     tip_fraction                    \n",
      "                             mean       std     count\n",
      "tpep_pickup_datetime                                 \n",
      "False                    0.132616  0.711717  95684269\n",
      "True                     0.124838  0.717446  16550357\n"
     ]
    }
   ],
   "source": [
    "print(monday_tips)"
   ]
  },
  {
   "cell_type": "markdown",
   "metadata": {},
   "source": [
    "Let's look at tiping behavior over the course of the year, averaging result by day"
   ]
  },
  {
   "cell_type": "code",
   "execution_count": 38,
   "metadata": {},
   "outputs": [
    {
     "name": "stdout",
     "output_type": "stream",
     "text": [
      "CPU times: user 10.7 s, sys: 1.25 s, total: 12 s\n",
      "Wall time: 3min 47s\n"
     ]
    }
   ],
   "source": [
    "%time day_mean_tips = ddf.groupby([ddf[ts].dt.date])[tip].mean().compute()"
   ]
  },
  {
   "cell_type": "code",
   "execution_count": 39,
   "metadata": {},
   "outputs": [
    {
     "name": "stdout",
     "output_type": "stream",
     "text": [
      "tpep_pickup_datetime\n",
      "2009-01-01    0.060512\n",
      "2018-11-07    0.136925\n",
      "2018-12-01    0.127297\n",
      "2018-12-02    0.129253\n",
      "2018-12-03    0.133394\n",
      "                ...   \n",
      "2018-11-03    0.127308\n",
      "2019-11-20    0.098266\n",
      "2019-11-21    0.040000\n",
      "2019-01-04    0.150000\n",
      "2019-01-26    0.100000\n",
      "Name: tip_fraction, Length: 445, dtype: float64\n"
     ]
    }
   ],
   "source": [
    "print(day_mean_tips)"
   ]
  },
  {
   "cell_type": "code",
   "execution_count": 40,
   "metadata": {},
   "outputs": [],
   "source": [
    "\"\"\"\n",
    "Cleanup and plot result\n",
    "\"\"\"\n",
    "day_mean_tips.sort_index(inplace=True)"
   ]
  },
  {
   "cell_type": "code",
   "execution_count": 41,
   "metadata": {},
   "outputs": [],
   "source": [
    "import pandas as pd\n",
    "# Transform indices back to datetime objects for filtering\n",
    "day_mean_tips.index = pd.to_datetime(day_mean_tips.index.to_series())\n",
    "# results = {index: row for index, row in day_mean_tips.iteritems() if index.year == 2018}"
   ]
  },
  {
   "cell_type": "code",
   "execution_count": 42,
   "metadata": {},
   "outputs": [
    {
     "data": {
      "text/plain": [
       "<matplotlib.axes._subplots.AxesSubplot at 0x7f29982f5c90>"
      ]
     },
     "execution_count": 42,
     "metadata": {},
     "output_type": "execute_result"
    },
    {
     "data": {
      "image/png": "[encoded data removed]",
      "text/plain": [
       "<Figure size 432x288 with 1 Axes>"
      ]
     },
     "metadata": {
      "needs_background": "light"
     },
     "output_type": "display_data"
    }
   ],
   "source": [
    "filtered_day_mean_tips = day_mean_tips[day_mean_tips.index.year == 2018]\n",
    "filtered_day_mean_tips.plot()"
   ]
  },
  {
   "cell_type": "markdown",
   "metadata": {},
   "source": [
    "#### Aggregate by week"
   ]
  },
  {
   "cell_type": "code",
   "execution_count": 43,
   "metadata": {},
   "outputs": [
    {
     "name": "stdout",
     "output_type": "stream",
     "text": [
      "CPU times: user 4.84 ms, sys: 584 µs, total: 5.42 ms\n",
      "Wall time: 12.3 ms\n"
     ]
    }
   ],
   "source": [
    "%time weekly_mean_tips = filtered_day_mean_tips.groupby([filtered_day_mean_tips.index.to_series().dt.week]).mean()"
   ]
  },
  {
   "cell_type": "code",
   "execution_count": 44,
   "metadata": {},
   "outputs": [
    {
     "name": "stdout",
     "output_type": "stream",
     "text": [
      "(52,)\n"
     ]
    },
    {
     "data": {
      "text/plain": [
       "<matplotlib.axes._subplots.AxesSubplot at 0x7f29a08c0690>"
      ]
     },
     "execution_count": 44,
     "metadata": {},
     "output_type": "execute_result"
    },
    {
     "data": {
      "image/png": "[encoded data removed]",
      "text/plain": [
       "<Figure size 432x288 with 1 Axes>"
      ]
     },
     "metadata": {
      "needs_background": "light"
     },
     "output_type": "display_data"
    }
   ],
   "source": [
    "print(weekly_mean_tips.shape)\n",
    "weekly_mean_tips.plot()"
   ]
  },
  {
   "cell_type": "markdown",
   "metadata": {},
   "source": [
    "#### Aggregate by month"
   ]
  },
  {
   "cell_type": "code",
   "execution_count": 45,
   "metadata": {},
   "outputs": [
    {
     "name": "stdout",
     "output_type": "stream",
     "text": [
      "CPU times: user 3.8 ms, sys: 0 ns, total: 3.8 ms\n",
      "Wall time: 3.15 ms\n"
     ]
    }
   ],
   "source": [
    "%time monthly_mean_tips = filtered_day_mean_tips.groupby([filtered_day_mean_tips.index.to_series().dt.month]).mean()"
   ]
  },
  {
   "cell_type": "code",
   "execution_count": 46,
   "metadata": {},
   "outputs": [
    {
     "name": "stdout",
     "output_type": "stream",
     "text": [
      "(12,)\n"
     ]
    },
    {
     "data": {
      "text/plain": [
       "<matplotlib.axes._subplots.AxesSubplot at 0x7f2999f79ad0>"
      ]
     },
     "execution_count": 46,
     "metadata": {},
     "output_type": "execute_result"
    },
    {
     "data": {
      "image/png": "[encoded data removed]",
      "text/plain": [
       "<Figure size 432x288 with 1 Axes>"
      ]
     },
     "metadata": {
      "needs_background": "light"
     },
     "output_type": "display_data"
    }
   ],
   "source": [
    "print(monthly_mean_tips.shape)\n",
    "monthly_mean_tips.plot()"
   ]
  },
  {
   "cell_type": "markdown",
   "metadata": {},
   "source": [
    "Seems there is some cyclicality to tipping (e.g., a spike in the fall/early winter months). We'd have to look at other things like the variance to gauge how meaninful this trend is. "
   ]
  }
 ],
 "metadata": {
  "kernelspec": {
   "display_name": "ml_env",
   "language": "python",
   "name": "ml_env"
  },
  "language_info": {
   "codemirror_mode": {
    "name": "ipython",
    "version": 3
   },
   "file_extension": ".py",
   "mimetype": "text/x-python",
   "name": "python",
   "nbconvert_exporter": "python",
   "pygments_lexer": "ipython3",
   "version": "3.7.7"
  }
 },
 "nbformat": 4,
 "nbformat_minor": 4
}
