{
 "cells": [
  {
   "cell_type": "markdown",
   "metadata": {},
   "source": [
    "# Template"
   ]
  },
  {
   "cell_type": "markdown",
   "metadata": {},
   "source": [
    "Copy when making a new notebook which will load the dataset and use Dask"
   ]
  },
  {
   "cell_type": "markdown",
   "metadata": {},
   "source": [
    "### Setup"
   ]
  },
  {
   "cell_type": "code",
   "execution_count": 4,
   "metadata": {},
   "outputs": [],
   "source": [
    "# Extension reloader to import a function again when re-running cell \n",
    "%load_ext autoreload\n",
    "%autoreload 2"
   ]
  },
  {
   "cell_type": "markdown",
   "metadata": {},
   "source": [
    "### Load Configuration"
   ]
  },
  {
   "cell_type": "code",
   "execution_count": 5,
   "metadata": {},
   "outputs": [
    {
     "name": "stdout",
     "output_type": "stream",
     "text": [
      "Loading configuration from: /home/justin/Code/interpretability_experiment/config.ini\n",
      "Input path: data/2018_Yellow_Taxi_Trip_Data_float64\n",
      "Output path: output\n"
     ]
    }
   ],
   "source": [
    "\"\"\"\n",
    "Loads common configuration parameters\n",
    "\"\"\"\n",
    "import utils.configuration_manager as configuration_manager\n",
    "from pathlib import PurePath\n",
    "from os import getcwd\n",
    "\n",
    "config_path = PurePath(getcwd(),'config.ini')\n",
    "config = configuration_manager.Config(config_path)\n",
    "\n",
    "# Assumes parquet directory as input\n",
    "input_path = config.input_path\n",
    "print('Input path: '+ input_path)\n",
    "\n",
    "# For result storage\n",
    "output_directory = config.output_directory\n",
    "print('Output path: ' + output_directory)"
   ]
  },
  {
   "cell_type": "markdown",
   "metadata": {},
   "source": [
    "### Start local Dask Client"
   ]
  },
  {
   "cell_type": "code",
   "execution_count": 6,
   "metadata": {},
   "outputs": [
    {
     "name": "stdout",
     "output_type": "stream",
     "text": [
      "Restarting client\n"
     ]
    },
    {
     "name": "stderr",
     "output_type": "stream",
     "text": [
      "distributed.nanny - WARNING - Restarting worker\n"
     ]
    },
    {
     "data": {
      "text/html": [
       "<table style=\"border: 2px solid white;\">\n",
       "<tr>\n",
       "<td style=\"vertical-align: top; border: 0px solid white\">\n",
       "<h3 style=\"text-align: left;\">Client</h3>\n",
       "<ul style=\"text-align: left; list-style: none; margin: 0; padding: 0;\">\n",
       "  <li><b>Scheduler: </b>tcp://127.0.0.1:46335</li>\n",
       "  <li><b>Dashboard: </b><a href='http://127.0.0.1:20100/status' target='_blank'>http://127.0.0.1:20100/status</a>\n",
       "</ul>\n",
       "</td>\n",
       "<td style=\"vertical-align: top; border: 0px solid white\">\n",
       "<h3 style=\"text-align: left;\">Cluster</h3>\n",
       "<ul style=\"text-align: left; list-style:none; margin: 0; padding: 0;\">\n",
       "  <li><b>Workers: </b>5</li>\n",
       "  <li><b>Cores: </b>10</li>\n",
       "  <li><b>Memory: </b>25.61 GB</li>\n",
       "</ul>\n",
       "</td>\n",
       "</tr>\n",
       "</table>"
      ],
      "text/plain": [
       "<Client: 'tcp://127.0.0.1:46335' processes=5 threads=10, memory=25.61 GB>"
      ]
     },
     "execution_count": 6,
     "metadata": {},
     "output_type": "execute_result"
    }
   ],
   "source": [
    "from dask.distributed import Client, LocalCluster\n",
    "try:\n",
    "    if client:\n",
    "        print('Restarting client')\n",
    "        client.restart()\n",
    "except:\n",
    "#     cluster = LocalCluster(dashboard_address=':20100', memory_limit='4G')\n",
    "    cluster = LocalCluster(dashboard_address=':20100')\n",
    "    print('Setting new client')\n",
    "    client = Client(cluster)\n",
    "    print(client)\n",
    "client"
   ]
  },
  {
   "cell_type": "markdown",
   "metadata": {},
   "source": [
    "### Dask dataframe loader"
   ]
  },
  {
   "cell_type": "code",
   "execution_count": 7,
   "metadata": {},
   "outputs": [],
   "source": [
    "import dask.dataframe as dd\n",
    "import fastparquet"
   ]
  },
  {
   "cell_type": "code",
   "execution_count": 8,
   "metadata": {},
   "outputs": [],
   "source": [
    "ddf = dd.read_parquet(input_path)"
   ]
  },
  {
   "cell_type": "code",
   "execution_count": 9,
   "metadata": {},
   "outputs": [
    {
     "data": {
      "text/html": [
       "<div>\n",
       "<style scoped>\n",
       "    .dataframe tbody tr th:only-of-type {\n",
       "        vertical-align: middle;\n",
       "    }\n",
       "\n",
       "    .dataframe tbody tr th {\n",
       "        vertical-align: top;\n",
       "    }\n",
       "\n",
       "    .dataframe thead th {\n",
       "        text-align: right;\n",
       "    }\n",
       "</style>\n",
       "<table border=\"1\" class=\"dataframe\">\n",
       "  <thead>\n",
       "    <tr style=\"text-align: right;\">\n",
       "      <th></th>\n",
       "      <th>VendorID</th>\n",
       "      <th>tpep_pickup_datetime</th>\n",
       "      <th>tpep_dropoff_datetime</th>\n",
       "      <th>passenger_count</th>\n",
       "      <th>trip_distance</th>\n",
       "      <th>RatecodeID</th>\n",
       "      <th>store_and_fwd_flag</th>\n",
       "      <th>PULocationID</th>\n",
       "      <th>DOLocationID</th>\n",
       "      <th>payment_type</th>\n",
       "      <th>fare_amount</th>\n",
       "      <th>extra</th>\n",
       "      <th>mta_tax</th>\n",
       "      <th>tip_amount</th>\n",
       "      <th>tolls_amount</th>\n",
       "      <th>improvement_surcharge</th>\n",
       "      <th>total_amount</th>\n",
       "    </tr>\n",
       "    <tr>\n",
       "      <th>index</th>\n",
       "      <th></th>\n",
       "      <th></th>\n",
       "      <th></th>\n",
       "      <th></th>\n",
       "      <th></th>\n",
       "      <th></th>\n",
       "      <th></th>\n",
       "      <th></th>\n",
       "      <th></th>\n",
       "      <th></th>\n",
       "      <th></th>\n",
       "      <th></th>\n",
       "      <th></th>\n",
       "      <th></th>\n",
       "      <th></th>\n",
       "      <th></th>\n",
       "      <th></th>\n",
       "    </tr>\n",
       "  </thead>\n",
       "  <tbody>\n",
       "    <tr>\n",
       "      <th>0</th>\n",
       "      <td>1</td>\n",
       "      <td>2018-12-03 09:58:01</td>\n",
       "      <td>2018-12-03 10:14:17</td>\n",
       "      <td>1.0</td>\n",
       "      <td>1.20</td>\n",
       "      <td>1</td>\n",
       "      <td>N</td>\n",
       "      <td>186</td>\n",
       "      <td>161</td>\n",
       "      <td>1</td>\n",
       "      <td>11.0</td>\n",
       "      <td>0.0</td>\n",
       "      <td>0.5</td>\n",
       "      <td>2.95</td>\n",
       "      <td>0.00</td>\n",
       "      <td>0.3</td>\n",
       "      <td>14.75</td>\n",
       "    </tr>\n",
       "    <tr>\n",
       "      <th>1</th>\n",
       "      <td>2</td>\n",
       "      <td>2018-12-03 09:41:32</td>\n",
       "      <td>2018-12-03 10:20:08</td>\n",
       "      <td>1.0</td>\n",
       "      <td>12.03</td>\n",
       "      <td>1</td>\n",
       "      <td>N</td>\n",
       "      <td>138</td>\n",
       "      <td>162</td>\n",
       "      <td>1</td>\n",
       "      <td>39.0</td>\n",
       "      <td>0.0</td>\n",
       "      <td>0.5</td>\n",
       "      <td>9.11</td>\n",
       "      <td>5.76</td>\n",
       "      <td>0.3</td>\n",
       "      <td>54.67</td>\n",
       "    </tr>\n",
       "    <tr>\n",
       "      <th>2</th>\n",
       "      <td>2</td>\n",
       "      <td>2018-12-03 08:54:36</td>\n",
       "      <td>2018-12-03 08:59:35</td>\n",
       "      <td>2.0</td>\n",
       "      <td>0.86</td>\n",
       "      <td>1</td>\n",
       "      <td>N</td>\n",
       "      <td>151</td>\n",
       "      <td>166</td>\n",
       "      <td>1</td>\n",
       "      <td>5.5</td>\n",
       "      <td>0.0</td>\n",
       "      <td>0.5</td>\n",
       "      <td>1.26</td>\n",
       "      <td>0.00</td>\n",
       "      <td>0.3</td>\n",
       "      <td>7.56</td>\n",
       "    </tr>\n",
       "    <tr>\n",
       "      <th>3</th>\n",
       "      <td>2</td>\n",
       "      <td>2018-12-03 09:02:08</td>\n",
       "      <td>2018-12-03 09:07:16</td>\n",
       "      <td>2.0</td>\n",
       "      <td>1.09</td>\n",
       "      <td>1</td>\n",
       "      <td>N</td>\n",
       "      <td>166</td>\n",
       "      <td>238</td>\n",
       "      <td>1</td>\n",
       "      <td>6.0</td>\n",
       "      <td>0.0</td>\n",
       "      <td>0.5</td>\n",
       "      <td>1.36</td>\n",
       "      <td>0.00</td>\n",
       "      <td>0.3</td>\n",
       "      <td>8.16</td>\n",
       "    </tr>\n",
       "    <tr>\n",
       "      <th>4</th>\n",
       "      <td>2</td>\n",
       "      <td>2018-12-03 09:10:10</td>\n",
       "      <td>2018-12-03 09:21:32</td>\n",
       "      <td>2.0</td>\n",
       "      <td>1.78</td>\n",
       "      <td>1</td>\n",
       "      <td>N</td>\n",
       "      <td>238</td>\n",
       "      <td>75</td>\n",
       "      <td>1</td>\n",
       "      <td>9.5</td>\n",
       "      <td>0.0</td>\n",
       "      <td>0.5</td>\n",
       "      <td>2.06</td>\n",
       "      <td>0.00</td>\n",
       "      <td>0.3</td>\n",
       "      <td>12.36</td>\n",
       "    </tr>\n",
       "  </tbody>\n",
       "</table>\n",
       "</div>"
      ],
      "text/plain": [
       "      VendorID tpep_pickup_datetime tpep_dropoff_datetime  passenger_count  \\\n",
       "index                                                                        \n",
       "0            1  2018-12-03 09:58:01   2018-12-03 10:14:17              1.0   \n",
       "1            2  2018-12-03 09:41:32   2018-12-03 10:20:08              1.0   \n",
       "2            2  2018-12-03 08:54:36   2018-12-03 08:59:35              2.0   \n",
       "3            2  2018-12-03 09:02:08   2018-12-03 09:07:16              2.0   \n",
       "4            2  2018-12-03 09:10:10   2018-12-03 09:21:32              2.0   \n",
       "\n",
       "       trip_distance RatecodeID store_and_fwd_flag PULocationID DOLocationID  \\\n",
       "index                                                                          \n",
       "0               1.20          1                  N          186          161   \n",
       "1              12.03          1                  N          138          162   \n",
       "2               0.86          1                  N          151          166   \n",
       "3               1.09          1                  N          166          238   \n",
       "4               1.78          1                  N          238           75   \n",
       "\n",
       "      payment_type  fare_amount  extra  mta_tax  tip_amount  tolls_amount  \\\n",
       "index                                                                       \n",
       "0                1         11.0    0.0      0.5        2.95          0.00   \n",
       "1                1         39.0    0.0      0.5        9.11          5.76   \n",
       "2                1          5.5    0.0      0.5        1.26          0.00   \n",
       "3                1          6.0    0.0      0.5        1.36          0.00   \n",
       "4                1          9.5    0.0      0.5        2.06          0.00   \n",
       "\n",
       "       improvement_surcharge  total_amount  \n",
       "index                                       \n",
       "0                        0.3         14.75  \n",
       "1                        0.3         54.67  \n",
       "2                        0.3          7.56  \n",
       "3                        0.3          8.16  \n",
       "4                        0.3         12.36  "
      ]
     },
     "execution_count": 9,
     "metadata": {},
     "output_type": "execute_result"
    }
   ],
   "source": [
    "ddf.head()"
   ]
  },
  {
   "cell_type": "markdown",
   "metadata": {},
   "source": [
    "Ignoring categorical data for simplicity"
   ]
  },
  {
   "cell_type": "code",
   "execution_count": null,
   "metadata": {},
   "outputs": [],
   "source": []
  },
  {
   "cell_type": "markdown",
   "metadata": {},
   "source": [
    "### Define what we are trying to model"
   ]
  },
  {
   "cell_type": "code",
   "execution_count": 17,
   "metadata": {},
   "outputs": [],
   "source": [
    "target = 'tip_amount'"
   ]
  },
  {
   "cell_type": "code",
   "execution_count": 18,
   "metadata": {},
   "outputs": [],
   "source": [
    "\"\"\"\n",
    "Subtract the tip_amount from the total_amount to prevent any leakage, \n",
    "using a new total_amount_wo_tip column.\n",
    "\"\"\"\n",
    "ddf['total_amount_wo_tip'] = ddf['total_amount'] - ddf['tip_amount']"
   ]
  },
  {
   "cell_type": "code",
   "execution_count": null,
   "metadata": {},
   "outputs": [],
   "source": [
    "# Select all numerical columns as inputs\n",
    "input_columns = ddf.select_dtypes(['float']).columns"
   ]
  },
  {
   "cell_type": "code",
   "execution_count": 34,
   "metadata": {},
   "outputs": [],
   "source": [
    "# Remove unwanted numerical columns \n",
    "input_columns = [col for col in input_columns if col not in [target, 'total_amount']]"
   ]
  },
  {
   "cell_type": "code",
   "execution_count": 35,
   "metadata": {},
   "outputs": [
    {
     "name": "stdout",
     "output_type": "stream",
     "text": [
      "['passenger_count', 'trip_distance', 'fare_amount', 'extra', 'mta_tax', 'tolls_amount', 'improvement_surcharge', 'total_amount_wo_tip']\n"
     ]
    }
   ],
   "source": [
    "print(input_columns)"
   ]
  },
  {
   "cell_type": "code",
   "execution_count": 36,
   "metadata": {},
   "outputs": [
    {
     "data": {
      "text/html": [
       "<div>\n",
       "<style scoped>\n",
       "    .dataframe tbody tr th:only-of-type {\n",
       "        vertical-align: middle;\n",
       "    }\n",
       "\n",
       "    .dataframe tbody tr th {\n",
       "        vertical-align: top;\n",
       "    }\n",
       "\n",
       "    .dataframe thead th {\n",
       "        text-align: right;\n",
       "    }\n",
       "</style>\n",
       "<table border=\"1\" class=\"dataframe\">\n",
       "  <thead>\n",
       "    <tr style=\"text-align: right;\">\n",
       "      <th></th>\n",
       "      <th>passenger_count</th>\n",
       "      <th>trip_distance</th>\n",
       "      <th>fare_amount</th>\n",
       "      <th>extra</th>\n",
       "      <th>mta_tax</th>\n",
       "      <th>tolls_amount</th>\n",
       "      <th>improvement_surcharge</th>\n",
       "      <th>total_amount_wo_tip</th>\n",
       "    </tr>\n",
       "    <tr>\n",
       "      <th>index</th>\n",
       "      <th></th>\n",
       "      <th></th>\n",
       "      <th></th>\n",
       "      <th></th>\n",
       "      <th></th>\n",
       "      <th></th>\n",
       "      <th></th>\n",
       "      <th></th>\n",
       "    </tr>\n",
       "  </thead>\n",
       "  <tbody>\n",
       "    <tr>\n",
       "      <th>0</th>\n",
       "      <td>1.0</td>\n",
       "      <td>1.20</td>\n",
       "      <td>11.0</td>\n",
       "      <td>0.0</td>\n",
       "      <td>0.5</td>\n",
       "      <td>0.00</td>\n",
       "      <td>0.3</td>\n",
       "      <td>11.80</td>\n",
       "    </tr>\n",
       "    <tr>\n",
       "      <th>1</th>\n",
       "      <td>1.0</td>\n",
       "      <td>12.03</td>\n",
       "      <td>39.0</td>\n",
       "      <td>0.0</td>\n",
       "      <td>0.5</td>\n",
       "      <td>5.76</td>\n",
       "      <td>0.3</td>\n",
       "      <td>45.56</td>\n",
       "    </tr>\n",
       "    <tr>\n",
       "      <th>2</th>\n",
       "      <td>2.0</td>\n",
       "      <td>0.86</td>\n",
       "      <td>5.5</td>\n",
       "      <td>0.0</td>\n",
       "      <td>0.5</td>\n",
       "      <td>0.00</td>\n",
       "      <td>0.3</td>\n",
       "      <td>6.30</td>\n",
       "    </tr>\n",
       "    <tr>\n",
       "      <th>3</th>\n",
       "      <td>2.0</td>\n",
       "      <td>1.09</td>\n",
       "      <td>6.0</td>\n",
       "      <td>0.0</td>\n",
       "      <td>0.5</td>\n",
       "      <td>0.00</td>\n",
       "      <td>0.3</td>\n",
       "      <td>6.80</td>\n",
       "    </tr>\n",
       "    <tr>\n",
       "      <th>4</th>\n",
       "      <td>2.0</td>\n",
       "      <td>1.78</td>\n",
       "      <td>9.5</td>\n",
       "      <td>0.0</td>\n",
       "      <td>0.5</td>\n",
       "      <td>0.00</td>\n",
       "      <td>0.3</td>\n",
       "      <td>10.30</td>\n",
       "    </tr>\n",
       "  </tbody>\n",
       "</table>\n",
       "</div>"
      ],
      "text/plain": [
       "       passenger_count  trip_distance  fare_amount  extra  mta_tax  \\\n",
       "index                                                                \n",
       "0                  1.0           1.20         11.0    0.0      0.5   \n",
       "1                  1.0          12.03         39.0    0.0      0.5   \n",
       "2                  2.0           0.86          5.5    0.0      0.5   \n",
       "3                  2.0           1.09          6.0    0.0      0.5   \n",
       "4                  2.0           1.78          9.5    0.0      0.5   \n",
       "\n",
       "       tolls_amount  improvement_surcharge  total_amount_wo_tip  \n",
       "index                                                            \n",
       "0              0.00                    0.3                11.80  \n",
       "1              5.76                    0.3                45.56  \n",
       "2              0.00                    0.3                 6.30  \n",
       "3              0.00                    0.3                 6.80  \n",
       "4              0.00                    0.3                10.30  "
      ]
     },
     "execution_count": 36,
     "metadata": {},
     "output_type": "execute_result"
    }
   ],
   "source": [
    "ddf[input_columns].head()"
   ]
  },
  {
   "cell_type": "code",
   "execution_count": 37,
   "metadata": {},
   "outputs": [
    {
     "data": {
      "text/plain": [
       "index\n",
       "0    2.95\n",
       "1    9.11\n",
       "2    1.26\n",
       "3    1.36\n",
       "4    2.06\n",
       "Name: tip_amount, dtype: float64"
      ]
     },
     "execution_count": 37,
     "metadata": {},
     "output_type": "execute_result"
    }
   ],
   "source": [
    "ddf[target].head()"
   ]
  },
  {
   "cell_type": "markdown",
   "metadata": {},
   "source": [
    "### Preparing dataset for dask"
   ]
  },
  {
   "cell_type": "code",
   "execution_count": 38,
   "metadata": {},
   "outputs": [],
   "source": [
    "\"\"\"\n",
    "Get the lengths of each block to allow conversion to DF\n",
    "https://nbviewer.jupyter.org/github/PuneetGrov3r/MediumPosts/blob/master/Tackle/BigData-IncrementalLearningAndDask.ipynb#Method-2:-Using-Dask:\n",
    "\"\"\"\n",
    "lengths = []\n",
    "for part in ddf.partitions:\n",
    "    l = part.shape[0].compute()\n",
    "    lengths.append(l)\n",
    "#     print(l, part.shape[1])"
   ]
  },
  {
   "cell_type": "code",
   "execution_count": 40,
   "metadata": {},
   "outputs": [],
   "source": [
    "# Set X, y to load as dask arrays\n",
    "X, y = ddf[input_columns].to_dask_array(lengths=lengths) , ddf[target].to_dask_array(lengths=lengths)"
   ]
  },
  {
   "cell_type": "code",
   "execution_count": 61,
   "metadata": {},
   "outputs": [],
   "source": [
    "\"\"\"\n",
    "Resizing blocks in order to prevent broadcasting errors due to different input sizes\n",
    "\"\"\"\n",
    "chunk_length = 200000\n",
    "import dask\n",
    "from dask_ml.preprocessing import RobustScaler\n",
    "\n",
    "Xo = dask.array.zeros((X.shape[0],1), chunks=(chunk_length,1))\n",
    "\n",
    "for i, col_ in enumerate(ddf[input_columns + [target]].columns):\n",
    "    if col_ == target:\n",
    "        rsc = RobustScaler()\n",
    "        y = rsc.fit_transform(y.reshape(-1, 1)).reshape(1, -1)[0]\n",
    "    else:\n",
    "        rsc = RobustScaler()\n",
    "        temp = rsc.fit_transform(X[:,i].reshape(-1, 1))\n",
    "        Xo = dask.array.concatenate([Xo, temp], axis=1)"
   ]
  },
  {
   "cell_type": "code",
   "execution_count": 62,
   "metadata": {},
   "outputs": [],
   "source": [
    "Xo = Xo[:, 1:]"
   ]
  },
  {
   "cell_type": "code",
   "execution_count": 63,
   "metadata": {},
   "outputs": [
    {
     "data": {
      "text/plain": [
       "array([[ 0.        , -0.48412698, -0.52380952, -0.5       ,  0.        ,\n",
       "         0.        ,  0.        , -0.55      ],\n",
       "       [ 0.        ,  0.08333333, -0.0952381 , -0.5       ,  0.        ,\n",
       "         0.        ,  0.        , -0.1       ],\n",
       "       [ 0.        ,  0.03968254,  0.        , -0.5       ,  0.        ,\n",
       "         0.        ,  0.        ,  0.        ],\n",
       "       [ 0.        , -0.29761905, -0.33333333, -0.5       ,  0.        ,\n",
       "         0.        ,  0.        , -0.35      ],\n",
       "       [ 0.        ,  0.35714286,  0.47619048, -0.5       ,  0.        ,\n",
       "         0.        ,  0.        ,  0.5       ]])"
      ]
     },
     "execution_count": 63,
     "metadata": {},
     "output_type": "execute_result"
    }
   ],
   "source": [
    "# Check\n",
    "Xo[-5:].compute()"
   ]
  },
  {
   "cell_type": "code",
   "execution_count": 64,
   "metadata": {},
   "outputs": [],
   "source": [
    "Xo = Xo.rechunk({1: Xo.shape[1]})\n",
    "Xo = Xo.rechunk({0: chunk_length})\n",
    "y = y.rechunk({0: chunk_length})"
   ]
  },
  {
   "cell_type": "markdown",
   "metadata": {},
   "source": [
    "### Train/validation/test prep"
   ]
  },
  {
   "cell_type": "code",
   "execution_count": 65,
   "metadata": {},
   "outputs": [
    {
     "name": "stdout",
     "output_type": "stream",
     "text": [
      "89787700\n"
     ]
    }
   ],
   "source": [
    "tr_len = int(0.8*Xo.shape[0])\n",
    "print(tr_len)"
   ]
  },
  {
   "cell_type": "code",
   "execution_count": 66,
   "metadata": {},
   "outputs": [
    {
     "data": {
      "text/plain": [
       "((89787700, 8), (89787700,), (22446926, 8), (22446926,))"
      ]
     },
     "execution_count": 66,
     "metadata": {},
     "output_type": "execute_result"
    }
   ],
   "source": [
    "xtrain, ytrain = Xo[:tr_len], y[:tr_len]\n",
    "xvalid, yvalid = Xo[tr_len:], y[tr_len:]\n",
    "xtrain.shape, ytrain.shape, xvalid.shape, yvalid.shape"
   ]
  },
  {
   "cell_type": "markdown",
   "metadata": {},
   "source": [
    "### Train LR model"
   ]
  },
  {
   "cell_type": "code",
   "execution_count": 68,
   "metadata": {},
   "outputs": [],
   "source": [
    "from dask_ml.linear_model import LinearRegression"
   ]
  },
  {
   "cell_type": "code",
   "execution_count": 69,
   "metadata": {},
   "outputs": [],
   "source": [
    "est = LinearRegression()"
   ]
  },
  {
   "cell_type": "code",
   "execution_count": null,
   "metadata": {},
   "outputs": [],
   "source": [
    "est.fit(xtrain, y=ytrain)"
   ]
  },
  {
   "cell_type": "code",
   "execution_count": null,
   "metadata": {},
   "outputs": [],
   "source": [
    "preds = est.predict(xvalid)"
   ]
  },
  {
   "cell_type": "code",
   "execution_count": null,
   "metadata": {},
   "outputs": [],
   "source": [
    "preds[0:10].compute()"
   ]
  },
  {
   "cell_type": "code",
   "execution_count": null,
   "metadata": {},
   "outputs": [],
   "source": [
    "plt.scatter(preds.compute(), yvalid.compute())"
   ]
  }
 ],
 "metadata": {
  "kernelspec": {
   "display_name": "ml_env",
   "language": "python",
   "name": "ml_env"
  },
  "language_info": {
   "codemirror_mode": {
    "name": "ipython",
    "version": 3
   },
   "file_extension": ".py",
   "mimetype": "text/x-python",
   "name": "python",
   "nbconvert_exporter": "python",
   "pygments_lexer": "ipython3",
   "version": "3.7.7"
  }
 },
 "nbformat": 4,
 "nbformat_minor": 4
}
